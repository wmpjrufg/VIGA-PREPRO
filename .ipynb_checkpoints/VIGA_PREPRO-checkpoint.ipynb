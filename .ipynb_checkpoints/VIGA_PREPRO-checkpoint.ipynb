{
 "cells": [
  {
   "cell_type": "markdown",
   "metadata": {
    "id": "gSfAlrPM5Hgd"
   },
   "source": [
    "# VIGA PREPRO\n",
    "#### *Verificação de vigas biapoiadas, pré-fabricas, protendidas, com cabos retilíneos e protensão limitada*\n",
    "</br>\n",
    "\n",
    "Autores:\n",
    "- Prof. Wanderlei Malaquias. Pereira Junior;\n",
    "- Eng. Civil Gustavo Gonçalves Costa;\n",
    "- Eng. Civil Matheus Henrique Morato de Moraes.\n",
    "\n",
    "<p align=\"justify\">Antes de iniciar o exemplo execute a célula de instalação do programa. Caso deseje rodar mais de um vez não é necessário instalar a biblioteca novamente.</p>\n",
    "\n",
    "_Produzido em linguagem Python_  \n",
    "_Licença MIT_"
   ]
  },
  {
   "cell_type": "code",
   "execution_count": null,
   "metadata": {
    "colab": {
     "base_uri": "https://localhost:8080/"
    },
    "id": "ucv1CYc3JKzN",
    "outputId": "85a8508d-65a0-41bd-aae6-b38e68cfa15c"
   },
   "outputs": [],
   "source": [
    "# Célula de instalação (**Não é necessário executar novamente quando precisar mudar os dados**)\n",
    "!pip install -i https://test.pypi.org/simple/ VIGA-PREPRO\n",
    "from VIGA_PREPRO import *\n",
    "import numpy as np"
   ]
  },
  {
   "cell_type": "markdown",
   "metadata": {
    "id": "iwbVTG0C4DP2"
   },
   "source": [
    "<p align=\"justify\">Prezado usuário digite os dados de entrada da sua viga biapoiada. <b>Antes de iniciar</b> o processo <b>verifique as unidades de entrada</b> na documentação.</p>\n",
    "\n",
    "[Clique aqui para acessar a documentação](https://wmpjrufg.github.io/VIGA-PREPRO/)"
   ]
  },
  {
   "cell_type": "code",
   "execution_count": null,
   "metadata": {
    "id": "6_8mCMHTKiO9"
   },
   "outputs": [],
   "source": [
    "# Vetor de variável de projeto \n",
    "X = [0.30 , 0.80]\n",
    "# Geometria da viga\n",
    "B_W = X[0]\n",
    "H = X[1]\n",
    "L = 20\n",
    "PHI_L = 12.5 / 1E3\n",
    "PHI_E = 10.0 / 1E3\n",
    "COB = 0.025 \n",
    "# Características do aço\n",
    "E_SCP = 195E6\n",
    "GAMMA_S = 78 \n",
    "TIPO_PROT = 'PRE'\n",
    "TIPO_ACO = 'RB'\n",
    "F_PK = 1864210.526\n",
    "F_YK = 1676573.427\n",
    "LAMBA_SIG = 1.00\n",
    "# Características do concreto\n",
    "GAMMA_C = 25\n",
    "F_CK = 40 * 1E3\n",
    "CIMENTO = 'CP5'\n",
    "AGREGADO = 'GRA'\n",
    "PHI_FLUENCIA0 = 3.70\n",
    "PHI_FLUENCIA1 = 1.70\n",
    "# Carregamentos e coeficientes parciais\n",
    "G_1K = B_W * H * GAMMA_C \n",
    "G_2K = 1.55 \n",
    "G_3K = 0.70\n",
    "Q_1K = 1.5\n",
    "Q_2K = 0.0\n",
    "PSI_1 = 0.40\n",
    "PSI_2 = 0.30\n",
    "GAMMA_F = 1.40\n",
    "GAMMA_S = 1.15\n",
    "# Tempos do concreto\n",
    "TEMPO_CONC = [1, 50 * 365]\n",
    "# Perdas estimadas em percentual\n",
    "PERDA_INICIAL = 7.87\n",
    "PERDA_TEMPO = 23.81 - 7.87\n",
    "\n",
    "# Aderência das cordoalhas\n",
    "ETA_1 = 1.2\n",
    "ETA_2 = 1.0"
   ]
  },
  {
   "cell_type": "markdown",
   "metadata": {
    "id": "Gxsqs7pRNgiX"
   },
   "source": [
    "## A célula abaixo verifica:\n",
    "- Propriedades geométricas da seção retangular;\n",
    "- Propriedades do material na idade da aplicação da protensão e infinito (50 anos de uso);\n",
    "- Tensão inicial nos cabos.\n",
    "\n"
   ]
  },
  {
   "cell_type": "code",
   "execution_count": null,
   "metadata": {
    "colab": {
     "base_uri": "https://localhost:8080/"
    },
    "id": "Vo-4ZwKzPtO0",
    "outputId": "4628ba0f-7dbc-4dc9-b5b0-9e1b25ecf0cd"
   },
   "outputs": [],
   "source": [
    "# Propriedades da seção\n",
    "[A_C, I_C, Y_SUP, Y_INF, W_SUP, W_INF] = PROP_GEOMETRICA(B_W,H)  \n",
    "E_P = Y_INF - COB - (PHI_L / 2) - PHI_E\n",
    "print('Propriedades da seção transversal')\n",
    "print('A_C:   ', '%+10.5e' % A_C, 'm²')\n",
    "print('I_C:   ', '%+10.5e' % I_C, 'm^4')\n",
    "print('Y_SUP: ', '%+10.5e' % Y_SUP, 'm')\n",
    "print('Y_INF: ', '%+10.5e' % Y_INF, 'm')\n",
    "print('W_SUP: ', '%+10.5e' % W_SUP, 'm³')\n",
    "print('W_INF: ', '%+10.5e' % W_INF, 'm³')\n",
    "print('E_P:   ', '%+10.5e' % E_P, 'm')\n",
    "print('\\n')\n",
    "\n",
    "# Propriedades do material em todos as etapas\n",
    "F_CKJ = []; F_CTMJ = []; F_CTKINFJ = []; F_CTKSUPJ = []; E_CIJ = []; E_CSJ = [];\n",
    "print('Propriedades do material')\n",
    "for I_COUNT in range(len(TEMPO_CONC)):\n",
    "    TEMPO = TEMPO_CONC[I_COUNT]\n",
    "    [F_CKJJ, F_CTM, F_CTKINF, F_CTKSUP, E_CI, E_CS] = PROP_MATERIAL(F_CK, TEMPO, CIMENTO, AGREGADO)\n",
    "    F_CKJ.append(F_CKJJ); F_CTMJ.append(F_CTM); F_CTKINFJ.append(F_CTKINF)\n",
    "    F_CTKSUPJ.append(F_CTKSUP); E_CIJ.append(E_CI), E_CSJ.append(E_CS) \n",
    "    print('Idade:    ', TEMPO, 'dias')\n",
    "    print('F_CKJ:    ', '%+10.5e' % F_CKJJ, 'kN/m²')\n",
    "    print('F_CTM:    ', '%+10.5e' % F_CTM, 'kN/m²')\n",
    "    print('F_CTKINF: ', '%+10.5e' % F_CTKINF, 'kN/m²')\n",
    "    print('F_CTKSUP: ', '%+10.5e' % F_CTKSUP, 'kN/m²')\n",
    "    print('E_CI:     ', '%+10.5e' % E_CI, 'kN/m²')\n",
    "    print('E_CS:     ', '%+10.5e' % E_CS, 'kN/m²')\n",
    "    print('\\n')\n",
    "\n",
    "# Tensão inicial\n",
    "SIGMA_PI0 = TENSAO_INICIAL(TIPO_PROT, TIPO_ACO, F_PK, F_YK)\n",
    "SIGMA_PI0 *= LAMBA_SIG\n",
    "print('Tensão inicial na armadura')\n",
    "print('SIGMA_PI0: ', '%+10.5e' % SIGMA_PI0, 'kN/m²')"
   ]
  },
  {
   "cell_type": "markdown",
   "metadata": {
    "id": "WmnKVYxuG016"
   },
   "source": [
    "## A célula abaixo verifica:\n",
    "- O comprimento de transferência da peça."
   ]
  },
  {
   "cell_type": "code",
   "execution_count": null,
   "metadata": {
    "colab": {
     "base_uri": "https://localhost:8080/"
    },
    "id": "kIYpT22fGz1y",
    "outputId": "bff41ea9-701e-4fc5-be7f-cfd506517044"
   },
   "outputs": [],
   "source": [
    "# Determinação do comprimento de transferência\n",
    "SIGMA_PIINI = SIGMA_PI0 - SIGMA_PI0 * (PERDA_INICIAL / 100)\n",
    "PERDA_TOTAL = PERDA_INICIAL + PERDA_TEMPO\n",
    "SIGMA_PIINF = SIGMA_PI0 - SIGMA_PI0 * (PERDA_TOTAL / 100)\n",
    "L_PINI = COMPRIMENTO_TRANSFERENCIA(PHI_L, F_YK, F_CTKINFJ[0], ETA_1, ETA_2, SIGMA_PIINI, H)\n",
    "L_PINF = COMPRIMENTO_TRANSFERENCIA(PHI_L, F_YK, F_CTKINFJ[1], ETA_1, ETA_2, SIGMA_PIINF, H)\n",
    "L_P = np.mean([L_PINI, L_PINF])\n",
    "print('Comprimento de transferência considerando as perdas iniciais')\n",
    "print('L_P: ', '%+10.5e' % L_P, 'm')\n",
    "print('\\n')"
   ]
  },
  {
   "cell_type": "markdown",
   "metadata": {
    "id": "dp4y4RiOKcfY"
   },
   "source": [
    "## A célula abaixo verifica:\n",
    "- Esforços de flexão meio do vão e apoios (no comp. de transferência);\n",
    "- Cisalhamento nos apoios."
   ]
  },
  {
   "cell_type": "code",
   "execution_count": null,
   "metadata": {
    "colab": {
     "base_uri": "https://localhost:8080/"
    },
    "id": "YPAq3SPIDXUT",
    "outputId": "b6e7c46d-7b35-4fe7-d738-45a7185435ca"
   },
   "outputs": [],
   "source": [
    "# Momento máximo (meio do vão), momento apoios (no comp. de transferência) e cortante máximo (apoios)\n",
    "[M_MVG1K, M_APG1K, V_APG1K] = ESFORCOS(G_1K, L, L_P)\n",
    "[M_MVG2K, M_APG2K, V_APG2K] = ESFORCOS(G_2K, L, L_P)\n",
    "[M_MVG3K, M_APG3K, V_APG3K] = ESFORCOS(G_3K, L, L_P)\n",
    "[M_MVQ1K, M_APQ1K, V_APQ1K] = ESFORCOS(Q_1K, L, L_P)\n",
    "print('Esforços devido aos carregametos G e Q (M = kN.m, V = kN)')\n",
    "print('MV = Meio do vão, AP = Apoio')\n",
    "print('M_G1MV:  ', '%+10.5e' % M_MVG1K, '   M_G1AP:  ', '%+10.5e' % M_APG1K,  '   V_G1AP:  ', '%+10.5e' % V_APG1K)\n",
    "print('M_G2MV:  ', '%+10.5e' % M_MVG2K, '   M_G2AP:  ', '%+10.5e' % M_APG2K,  '   V_G2AP:  ', '%+10.5e' % V_APG2K)\n",
    "print('M_G3MV:  ', '%+10.5e' % M_MVG3K, '   M_G3AP:  ', '%+10.5e' % M_APG3K,  '   V_G2AP:  ', '%+10.5e' % V_APG3K)\n",
    "print('M_Q1MV:  ', '%+10.5e' % M_MVQ1K, '   M_Q1AP:  ', '%+10.5e' % M_APQ1K,  '   V_Q1AP:  ', '%+10.5e' % V_APQ1K)\n",
    "print('\\n')"
   ]
  },
  {
   "cell_type": "markdown",
   "metadata": {
    "id": "I5QbXTg7QuVw"
   },
   "source": [
    "## A célula abaixo verifica:\n",
    "- Determinação da armadura A_SCP longitudinal que respeite a equação de Estado Limite de Serviço (ELS-F) no tempo infinito."
   ]
  },
  {
   "cell_type": "code",
   "execution_count": null,
   "metadata": {
    "colab": {
     "base_uri": "https://localhost:8080/"
    },
    "id": "uE4Kg56bAv-S",
    "outputId": "c0eca95d-5853-47c7-f7d7-5cbf140f0a04"
   },
   "outputs": [],
   "source": [
    "# Avaliação no apoio\n",
    "A_SCPINICIAL0 = ARMADURA_ASCP_ELS(A_C, W_INF, E_P, PSI_1, PSI_2, M_APG1K, M_APG2K, M_APG3K, M_APQ1K, SIGMA_PIINF, F_CTKINFJ[1])\n",
    "\n",
    "# Avaliação no meio do vão\n",
    "A_SCPINICIAL1 = ARMADURA_ASCP_ELS(A_C, W_INF, E_P, PSI_1, PSI_2, M_MVG1K, M_MVG2K, M_MVG3K, M_MVQ1K, SIGMA_PIINF, F_CTKINFJ[1])\n",
    "\n",
    "# Seleção do maior valor (pior situação)\n",
    "A_SCP = max(A_SCPINICIAL0, A_SCPINICIAL1)\n",
    "print('Sugestão de armadura ')\n",
    "print('A_SCPINICIAL >=  ', '%+10.5e' % A_SCPINICIAL0, 'm²', '  Sugestão de armadura respeitando as condições nos apoios')\n",
    "print('A_SCPINICIAL >=  ', '%+10.5e' % A_SCPINICIAL1, 'm²', '  Sugestão de armadura respeitando as condições no meio do vão')\n",
    "print('\\n')\n",
    "print('A_SCP        ==  ', '%+10.5e' % A_SCP, 'm²', '  Armadura inicial escolhida')"
   ]
  },
  {
   "cell_type": "markdown",
   "metadata": {
    "id": "I5QbXTg7QuVw"
   },
   "source": [
    "## A célula abaixo verifica:\n",
    "- Verifica as tensões normais no ato da protensão considerando um Estado Limite Último (ELU)."
   ]
  },
  {
   "cell_type": "code",
   "execution_count": null,
   "metadata": {
    "colab": {
     "base_uri": "https://localhost:8080/",
     "height": 248
    },
    "id": "P-e0oY-_NiUG",
    "outputId": "f16a7493-0235-4516-c0c4-5ca672b62b4d"
   },
   "outputs": [],
   "source": [
    "print('Verificações ELU no ato da protensão')\n",
    "# Carga inicial de protensão após definição da armadura\n",
    "SIGMA_PI1 = SIGMA_PIINI\n",
    "P_I1 = SIGMA_PI1 * A_SCP\n",
    "print('Parâmetros da protensão')\n",
    "print('SIGMA_PI1:     ' , '%+10.5e' % SIGMA_PI1, 'kN/m²')\n",
    "print('P_I1:          ' , '%+10.5e' % P_I1, 'kN')\n",
    "print('\\n')\n",
    "\n",
    "# Valores máximos das tensões (tração e compressão)\n",
    "SIGMA_TRACMAX = 1.20 * F_CTMJ[0]\n",
    "SIGMA_COMPMAX = 0.70 * F_CKJ[0]\n",
    "print('Valores máximos das tensões ')\n",
    "print('SIGMA_TRACMAX: ' , '%+10.5e' % SIGMA_TRACMAX, 'kN/m²')\n",
    "print('SIGMA_COMPMAX: ' , '%+10.5e' % SIGMA_COMPMAX, 'kN/m²')\n",
    "print('\\n')\n",
    "\n",
    "# Verificação tensões normais no ato da protensão no apoio\n",
    "G = []\n",
    "[SIGMA_INF, SIGMA_SUP] = TENSOES_NORMAIS(P_I1, A_C, E_P, W_INF, W_SUP, 1, 1, 0, 0, 0, 0, 0, M_APG1K, 0, 0, 0, 0)\n",
    "[G_0, G_1] = VERIFICA_TENSAO_NORMAL_ATO_PROTENSÃO(SIGMA_INF, SIGMA_SUP, SIGMA_TRACMAX, SIGMA_COMPMAX)\n",
    "G.append(G_0); G.append(G_1)\n",
    "print('Verificação das tensões normais nos bordos no apoio ')\n",
    "print('Bordo inferior:', '%+10.5e' % SIGMA_INF, 'kN/m²', '// Eq. Estado Limite:', '%+10.5e' % G_0)\n",
    "print('Bordo superior:', '%+10.5e' % SIGMA_SUP, 'kN/m²', '// Eq. Estado Limite:', '%+10.5e' % G_1)\n",
    "print('\\n')\n",
    "\n",
    "# Verificação tensões normais no ato da protensão no meio do vão\n",
    "[SIGMA_INF, SIGMA_SUP] = TENSOES_NORMAIS(P_I1, A_C, E_P, W_INF, W_SUP, 1, 1, 0, 0, 0, 0, 0, M_MVG1K, 0, 0, 0, 0)\n",
    "[G_2, G_3] = VERIFICA_TENSAO_NORMAL_ATO_PROTENSÃO(SIGMA_INF, SIGMA_SUP, SIGMA_TRACMAX, SIGMA_COMPMAX)\n",
    "G.append(G_2); G.append(G_3)\n",
    "print('Verificação das tensões normais nos bordos no meio do vão ')\n",
    "print('Bordo inferior:', '%+10.5e' % SIGMA_INF, 'kN/m²', '// Eq. Estado Limite:', '%+10.5e' % G_2)\n",
    "print('Bordo superior:', '%+10.5e' % SIGMA_SUP, 'kN/m²', '// Eq. Estado Limite:', '%+10.5e' % G_3)\n",
    "print('\\n')"
   ]
  },
  {
   "cell_type": "markdown",
   "metadata": {
    "id": "I5QbXTg7QuVw"
   },
   "source": [
    "## A célula abaixo verifica:\n",
    "- Determina a armadura longitudinal necessária A_SCPNEC para a peça."
   ]
  },
  {
   "cell_type": "code",
   "execution_count": null,
   "metadata": {},
   "outputs": [],
   "source": [
    "print('Verificação da armadura necessária')\n",
    "# Momento de cálculo\n",
    "M_SD = (M_MVG1K + M_MVG2K + M_MVG3K + M_MVQ1K) * GAMMA_F\n",
    "print('Momento de cálculo')\n",
    "print('M_SD: ', '%+10.5e' % M_SD, 'kN.m')\n",
    "print('\\n')\n",
    "\n",
    "# Altura útil\n",
    "D = Y_SUP + E_P\n",
    "print('Altura útil')\n",
    "print('D: ',   '%+10.5e' % D, 'm')\n",
    "print('\\n')\n",
    "\n",
    "# Propriedades do aço\n",
    "F_PD = F_PK / GAMMA_S\n",
    "F_YD = F_YK / GAMMA_S\n",
    "EPSILON_Y = F_YD / E_SCP\n",
    "print('Propriedades do aço')\n",
    "print('F_PD:      ',   '%+10.5e' % F_PD, 'kN/m²')\n",
    "print('F_YD:      ',   '%+10.5e' % F_YD, 'kN/m²')\n",
    "print('EPSILON_Y: ',   '%+10.5e' % EPSILON_Y)\n",
    "print('\\n')\n",
    "\n",
    "# Armadura necessária\n",
    "X, EPSILON_S, EPSILON_C, Z, A_SCPNEC = AREA_ACO_FNS_RETANGULAR_SIMPLES('CP', M_SD, F_CK, B_W, D, E_SCP, SIGMA_PIINF, 35/1000, EPSILON_Y, F_PD, F_YD)\n",
    "G_4 = VERIFICA_ARMADURA_FLEXAO(A_SCP, A_SCPNEC)\n",
    "G.append(G_4)\n",
    "print('Armadura necessária')\n",
    "print('X:         ',   '%+10.5e' % X, 'm')\n",
    "print('EPSILON_S: ',   '%+10.5e' % EPSILON_S)\n",
    "print('EPSILON_C: ',   '%+10.5e' % EPSILON_C)\n",
    "print('Z:         ',   '%+10.5e' % Z, 'm')\n",
    "print('A_SCPNEC:  ',   '%+10.5e' % A_SCPNEC, 'm²', '// Eq. Estado Limite:', '%+10.5e' % G_4)\n",
    "print('\\n')"
   ]
  },
  {
   "cell_type": "markdown",
   "metadata": {
    "id": "I5QbXTg7QuVw"
   },
   "source": [
    "## A célula abaixo verifica:\n",
    "- Determina a resistência da biela de compressão;\n",
    "- Determina a armadura transversal A_SW necessária para a peça."
   ]
  },
  {
   "cell_type": "code",
   "execution_count": null,
   "metadata": {},
   "outputs": [],
   "source": [
    "# Verificação da biela comprimida\n",
    "V_SD = (V_APG1K + V_APG2K + V_APG3K + V_APQ1K) * 1.40\n",
    "V_RD2 = RESISTENCIA_BIELA_COMPRIMIDA(F_CKJ[1], B_W, D)\n",
    "G_5 = VERIFICA_BIELA_COMPRIMIDA(V_SD, V_RD2)\n",
    "G.append(G_5)\n",
    "print('Verificação da biela de compressão')\n",
    "print('Esforço cortante solicitante')\n",
    "print('V_SD:         ',   '%+10.5e' % V_SD, 'kN')\n",
    "print('\\n')\n",
    "print('Resistência da biela de compressão')\n",
    "print('V_RD2:        ',   '%+10.5e' % V_RD2, 'kN', '// Eq. Estado Limite:', '%+10.5e' % G_5)\n",
    "print('\\n')\n",
    "\n",
    "# Cálculo da armadura necessária\n",
    "P_IINF = SIGMA_PIINF * A_SCP\n",
    "V_C, V_SW, A_SW = AREA_ACO_TRANSVERSAL_MODELO_I(0, P_IINF, V_SD, F_CTKINFJ[1], B_W, D, 'CP', W_INF, A_C, E_P, M_SD, F_CTMJ[1], 500E3)\n",
    "print('Resistência do concreto ao cisalhamento')\n",
    "print('V_C:          ',   '%+10.5e' % V_C, 'kN')\n",
    "print('\\n')\n",
    "print('Carga de cisalhamento absorvida pelo estribo')\n",
    "print('V_SW:         ',   '%+10.5e' % V_SW, 'kN')\n",
    "print('\\n')\n",
    "print('Armadura para o cisalhamento')\n",
    "print('A_SW:         ',   '%+10.5e' % A_SW, 'm²/m')\n",
    "print('\\n')"
   ]
  },
  {
   "cell_type": "markdown",
   "metadata": {},
   "source": [
    "## A célula abaixo verifica:\n",
    "- Propriedades no Estádios I e II;\n",
    "- Momento de fissuração;\n",
    "- Flecha."
   ]
  },
  {
   "cell_type": "code",
   "execution_count": null,
   "metadata": {},
   "outputs": [],
   "source": [
    "print(\"Verificação da flecha\")\n",
    "# Determinação das propriedades no Estádio I\n",
    "ALPHA_MOD = E_SCP / E_CSJ[1]\n",
    "A_CI, X_I, I_I = GEOMETRIC_PROPERTIES_STATE_I(H, B_W, B_W, 0, A_SCP, ALPHA_MOD, D)\n",
    "M_R = M_R_BENDING_MOMENT(2, F_CTMJ[1], H, X_I, I_I, P_IINF, A_CI, W_INF, E_P)\n",
    "\n",
    "# Determinação das propriedades no Estádio II\n",
    "X_II, I_II = GEOMETRIC_PROPERTIES_STATE_II(H, B_W, B_W, 0, A_SCP, 0, ALPHA_MOD, D, 0)\n",
    "print(\"Propriedades no Estádio I\")\n",
    "print('Área da seção (Ac)               = ', A_CI, 'm²')\n",
    "print('Linha Neutra (xi)                = ', X_I, 'm')\n",
    "print('Inércia Estádio I (Ii)           = ', I_I, 'm^4')\n",
    "print('Momento resistente (Mr serviço)  = ', M_R, 'kN.m')\n",
    "print('\\n')\n",
    "print(\"Propriedades no Estádio II\")\n",
    "print('Linha Neutra Estádio II (xii)    = ', X_II, 'm')\n",
    "print('Inércia Estádio II (Iii)         = ', I_II, 'm^4')\n",
    "print('\\n')\n",
    "\n",
    "# Momento atuante\n",
    "M_SER = (M_MVG1K + M_MVG2K + M_MVG3K) + (M_MVQ1K) * PSI_2\n",
    "print(\"Verificação do Estádio\")\n",
    "print('Momento atuante (Mat serviço)    = ', M_SER, 'kN.m')\n",
    "\n",
    "# Inércia e rigidez equivalente da peça\n",
    "if M_SER > M_R:\n",
    "    I_M = BRANSON_INERTIA(M_R, M_SER, I_I, I_II)\n",
    "    I_CNOVO = I_M\n",
    "    print('Peça deverá ser verificada no Estádio II')\n",
    "else:\n",
    "    I_CNOVO  = I_I\n",
    "    print('Peça deverá ser verificada no Estádio I')\n",
    "print('\\n')\n",
    "\n",
    "EI0 = E_CSJ[0] * I_CNOVO\n",
    "EI1 = E_CSJ[1] * I_CNOVO\n",
    "print(\"Avaliação da inércia equivalente\")\n",
    "print(\"Inércia equivalente               =\", I_CNOVO, 'm^4')\n",
    "print(\"Rigidez equivalente na protensão  =\", EI0, 'kN.m²')\n",
    "print(\"Rigidez equivalente no serviço    =\", EI1, 'kN.m²')\n",
    "\n",
    "# Cálculo das flechas totais\n",
    "M_PI = P_I1 * E_P\n",
    "A_PI = -(M_PI * (L ** 2)) / (8 * EI0)\n",
    "A_PI *= (PHI_FLUENCIA0 + 1)\n",
    "A_G1 = (5 * G_1K * (L ** 4) / (384 * EI0))\n",
    "A_G1 *= (PHI_FLUENCIA0 + 1)\n",
    "G_SER = G_1K + G_2K + G_3K + PSI_2 * Q_1K\n",
    "A_G23 = (5 * (G_2K + G_3K) * (L ** 4) / (384 * EI1))\n",
    "A_G23 *= (PHI_FLUENCIA1 + 1)\n",
    "A_Q1 = (5 * (PSI_2 * Q_1K) * (L ** 4) / (384 * EI1))\n",
    "A_GT = A_G1 + A_G23 + A_Q1\n",
    "A_FABRICA = A_PI + A_G1\n",
    "A_SERVICO = A_PI + A_GT\n",
    "\n",
    "# Verificação flecha na fabricação\n",
    "G_6 = VERIFICA_FLECHA(A_FABRICA, L / 1000)\n",
    "G_7 = VERIFICA_FLECHA(A_SERVICO, L / 250)\n",
    "print(\"Flecha total (Direta + Fluência)\")\n",
    "print(\"Carga de serviço                = \", G_SER, 'kN/m')\n",
    "print(\"Flecha total na fabricação      = \", A_FABRICA, 'm', '// Eq. Estado Limite:', G_6)\n",
    "print(\"Flecha total no serviço         = \", A_SERVICO, 'm', '// Eq. Estado Limite:', G_7)"
   ]
  }
 ],
 "metadata": {
  "colab": {
   "collapsed_sections": [],
   "name": "VIGA_PREPRO.ipynb",
   "provenance": []
  },
  "kernelspec": {
   "display_name": "Python 3",
   "language": "python",
   "name": "python3"
  },
  "language_info": {
   "codemirror_mode": {
    "name": "ipython",
    "version": 3
   },
   "file_extension": ".py",
   "mimetype": "text/x-python",
   "name": "python",
   "nbconvert_exporter": "python",
   "pygments_lexer": "ipython3",
   "version": "3.7.6"
  }
 },
 "nbformat": 4,
 "nbformat_minor": 1
}
