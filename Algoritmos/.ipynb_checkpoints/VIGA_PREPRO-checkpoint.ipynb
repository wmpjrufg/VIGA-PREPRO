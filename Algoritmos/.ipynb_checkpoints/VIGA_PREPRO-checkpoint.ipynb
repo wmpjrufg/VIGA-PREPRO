{
 "cells": [
  {
   "cell_type": "markdown",
   "metadata": {
    "id": "gSfAlrPM5Hgd"
   },
   "source": [
    "# VIGA PREPRO\n",
    "#### *Verificação de vigas biapoiadas, pré-fabricas e protendidas para protensão parcial*\n",
    "</br>\n",
    "<p align=\"justify\">Antes de iniciar o exemplo execute a célula de instalação do programa. Caso deseje rodar mais de um vez não é necessário instalar a biblioteca novamente.</p>\n"
   ]
  },
  {
   "cell_type": "code",
   "execution_count": 1,
   "metadata": {
    "colab": {
     "base_uri": "https://localhost:8080/"
    },
    "id": "ucv1CYc3JKzN",
    "outputId": "85a8508d-65a0-41bd-aae6-b38e68cfa15c"
   },
   "outputs": [
    {
     "name": "stderr",
     "output_type": "stream",
     "text": [
      "C:\\Users\\Usuario\\Documents\\GitHub\\VIGA-PREPRO\\Algoritmos\\VIGA_PREPRO.py:933: SyntaxWarning: 'int' object is not callable; perhaps you missed a comma?\n",
      "  W_1 = (DIAMETRO_ARMADURA / 12.5 * ETA_COEFICIENTE_ADERENCIA) * (SIGMA_S / E_SCP) * 3 (SIGMA_S / F_CTM)\n"
     ]
    },
    {
     "name": "stdout",
     "output_type": "stream",
     "text": [
      "Requirement already up-to-date: emoji in c:\\programdata\\anaconda3\\lib\\site-packages (1.4.1)\n"
     ]
    }
   ],
   "source": [
    "# Célula de instalação\n",
    "from VIGA_PREPRO import *\n",
    "!pip install emoji --upgrade\n",
    "import emoji\n",
    "import numpy as np"
   ]
  },
  {
   "cell_type": "markdown",
   "metadata": {
    "id": "iwbVTG0C4DP2"
   },
   "source": [
    "<p align=\"justify\">Prezado usuário digite os dados de entrada da sua viga biapoiada. <b>Antes de iniciar</b> o processo <b>verifique as unidades de entrada</b> na documentação.</p>"
   ]
  },
  {
   "cell_type": "code",
   "execution_count": 2,
   "metadata": {
    "id": "6_8mCMHTKiO9"
   },
   "outputs": [],
   "source": [
    "# Vetor de variável de projeto \n",
    "X = [0.25 , 0.70]\n",
    "# Geometria \n",
    "B_W = X[0]\n",
    "H = X[1]\n",
    "L = 20\n",
    "E_P = 0.30\n",
    "# Características do aço\n",
    "E_SCP = 195E6\n",
    "GAMMA_S = 78 \n",
    "TIPO_PROT = 'PRE'\n",
    "TIPO_ACO = 'RB'\n",
    "F_PK = 1864210.526\n",
    "F_YK = 1676573.427 \n",
    "# Características do concreto\n",
    "GAMMA_C = 25\n",
    "F_CK = 30 * 1E3\n",
    "CIMENTO = 'CP5'\n",
    "AGREGADO = 'GRA'\n",
    "# Carregamentos e coeficientes parciais\n",
    "G_1 = B_W * H * GAMMA_C \n",
    "G_2 = 1.55 \n",
    "G_3 = 0.70\n",
    "Q_1 = 1.5\n",
    "Q_2 = 0.0\n",
    "PSI_1 = 0.40\n",
    "PSI_2 = 0.30\n",
    "GAMMA_F = 1.40\n",
    "GAMMA_S = 1.15\n",
    "# Tempos do concreto\n",
    "TEMPO_CONC = [28, 50*365]\n",
    "# Perdas estimadas em percentual\n",
    "PERDA_INICIAL = 5\n",
    "PERDA_TEMPO = 17\n",
    "PHI_L = 12.5 / 1E3\n",
    "# Aderência das cordoalhas\n",
    "ETA_1 = 1.2\n",
    "ETA_2 = 1.0"
   ]
  },
  {
   "cell_type": "markdown",
   "metadata": {
    "id": "Gxsqs7pRNgiX"
   },
   "source": [
    "## A célula abaixo verifica:\n",
    "- Propriedades geométrica da seção retangular;\n",
    "- Propriedades do material na idade de protensão e infinito (50 anos de uso);\n",
    "- Tensão inicial nos cabos.\n",
    "\n"
   ]
  },
  {
   "cell_type": "code",
   "execution_count": 3,
   "metadata": {
    "colab": {
     "base_uri": "https://localhost:8080/"
    },
    "id": "Vo-4ZwKzPtO0",
    "outputId": "4628ba0f-7dbc-4dc9-b5b0-9e1b25ecf0cd"
   },
   "outputs": [
    {
     "name": "stdout",
     "output_type": "stream",
     "text": [
      "Propriedades da seção transversal 📐\n",
      "A_C:    +1.75000e-01 m²\n",
      "I_C:    +7.14583e-03 m^4\n",
      "Y_SUP:  +3.50000e-01 m\n",
      "Y_INF:  +3.50000e-01 m\n",
      "W_SUP:  +2.04167e-02 m³\n",
      "W_INF:  +2.04167e-02 m³\n",
      "E_P:    +3.00000e-01 m\n",
      "\n",
      "\n",
      "Propriedades do material 📐\n",
      " 🕗\n",
      "Idade:     28 dias\n",
      "F_CKJ:     +3.00000e+04 kN/m²\n",
      "F_CTM:     +2.89647e+03 kN/m²\n",
      "F_CTKINF:  +2.02753e+03 kN/m²\n",
      "F_CTKSUP:  +3.76541e+03 kN/m²\n",
      "E_CI:      +3.06725e+07 kN/m²\n",
      "E_CS:      +2.68384e+07 kN/m²\n",
      "\n",
      "\n",
      " 🕗\n",
      "Idade:     18250 dias\n",
      "F_CKJ:     +3.00000e+04 kN/m²\n",
      "F_CTM:     +2.89647e+03 kN/m²\n",
      "F_CTKINF:  +2.02753e+03 kN/m²\n",
      "F_CTKSUP:  +3.76541e+03 kN/m²\n",
      "E_CI:      +3.06725e+07 kN/m²\n",
      "E_CS:      +2.68384e+07 kN/m²\n",
      "\n",
      "\n",
      "Tensão inicial na armadura 📐\n",
      "SIGMA_PI0:  +1.42509e+06 kN/m²\n"
     ]
    }
   ],
   "source": [
    "# Propriedades da seção\n",
    "[A_C, I_C, Y_SUP, Y_INF, W_SUP, W_INF] = PROP_GEOMETRICA(B_W,H)  \n",
    "print(emoji.emojize('Propriedades da seção transversal :triangular_ruler:'))\n",
    "print('A_C:   ', '%+10.5e' % A_C, 'm²')\n",
    "print('I_C:   ', '%+10.5e' % I_C, 'm^4')\n",
    "print('Y_SUP: ', '%+10.5e' % Y_SUP, 'm')\n",
    "print('Y_INF: ', '%+10.5e' % Y_INF, 'm')\n",
    "print('W_SUP: ', '%+10.5e' % W_SUP, 'm³')\n",
    "print('W_INF: ', '%+10.5e' % W_INF, 'm³')\n",
    "print('E_P:   ', '%+10.5e' % E_P, 'm')\n",
    "print('\\n')\n",
    "\n",
    "# Propriedades do material em todos as etapas\n",
    "F_CKJ = []; F_CTMJ = []; F_CTKINFJ = []; F_CTKSUPJ = []; E_CIJ = []; E_CSJ = [];\n",
    "print(emoji.emojize('Propriedades do material :triangular_ruler:'))\n",
    "for I_COUNT in range(len(TEMPO_CONC)):\n",
    "    TEMPO = TEMPO_CONC[I_COUNT]\n",
    "    [F_CKJJ, F_CTM, F_CTKINF, F_CTKSUP, E_CI, E_CS] = PROP_MATERIAL(F_CK, TEMPO, CIMENTO, AGREGADO)\n",
    "    F_CKJ.append(F_CKJJ); F_CTMJ.append(F_CTM); F_CTKINFJ.append(F_CTKINF)\n",
    "    F_CTKSUPJ.append(F_CTKSUP); E_CIJ.append(E_CI), E_CSJ.append(E_CS) \n",
    "    print(emoji.emojize(' \\U0001f557'))\n",
    "    print('Idade:    ', TEMPO, 'dias')\n",
    "    print('F_CKJ:    ', '%+10.5e' % F_CKJJ, 'kN/m²')\n",
    "    print('F_CTM:    ', '%+10.5e' % F_CTM, 'kN/m²')\n",
    "    print('F_CTKINF: ', '%+10.5e' % F_CTKINF, 'kN/m²')\n",
    "    print('F_CTKSUP: ', '%+10.5e' % F_CTKSUP, 'kN/m²')\n",
    "    print('E_CI:     ', '%+10.5e' % E_CI, 'kN/m²')\n",
    "    print('E_CS:     ', '%+10.5e' % E_CS, 'kN/m²')\n",
    "    print('\\n')\n",
    "\n",
    "# Tensão inicial\n",
    "SIGMA_PI0 = TENSAO_INICIAL(TIPO_PROT, TIPO_ACO, F_PK, F_YK)\n",
    "print(emoji.emojize('Tensão inicial na armadura :triangular_ruler:'))\n",
    "print('SIGMA_PI0: ', '%+10.5e' % SIGMA_PI0, 'kN/m²')"
   ]
  },
  {
   "cell_type": "markdown",
   "metadata": {
    "id": "WmnKVYxuG016"
   },
   "source": [
    "## A célula abaixo verifica:\n",
    "- O comprimento de transferência da peça."
   ]
  },
  {
   "cell_type": "code",
   "execution_count": 4,
   "metadata": {
    "colab": {
     "base_uri": "https://localhost:8080/"
    },
    "id": "kIYpT22fGz1y",
    "outputId": "bff41ea9-701e-4fc5-be7f-cfd506517044"
   },
   "outputs": [
    {
     "name": "stdout",
     "output_type": "stream",
     "text": [
      "Comprimento de transferência considerando as perdas iniciais 📐\n",
      "L_P:  +1.07751e+00 m\n",
      "\n",
      "\n"
     ]
    }
   ],
   "source": [
    "# Determinação do comprimento de transferência\n",
    "SIGMA_PIINI = SIGMA_PI0 - SIGMA_PI0 * (PERDA_INICIAL / 100)\n",
    "PERDA_TOTAL = PERDA_INICIAL + PERDA_TEMPO\n",
    "SIGMA_PIINF = SIGMA_PI0 - SIGMA_PI0 * (PERDA_TOTAL / 100)\n",
    "L_PINI = COMPRIMENTO_TRANSFERENCIA(PHI_L, F_YK, F_CTKINFJ[0], ETA_1, ETA_2, SIGMA_PIINI, H)\n",
    "L_PINF = COMPRIMENTO_TRANSFERENCIA(PHI_L, F_YK, F_CTKINFJ[1], ETA_1, ETA_2, SIGMA_PIINF, H)\n",
    "L_P = np.mean([L_PINI, L_PINF])\n",
    "print(emoji.emojize('Comprimento de transferência considerando as perdas iniciais :triangular_ruler:'))\n",
    "print('L_P: ', '%+10.5e' % L_P, 'm')\n",
    "print('\\n')"
   ]
  },
  {
   "cell_type": "markdown",
   "metadata": {
    "id": "dp4y4RiOKcfY"
   },
   "source": [
    "## A célula abaixo verifica:\n",
    "- Esforços de flexão meio do vão e apoios (no comp. de transferência);\n",
    "- Cisalhamento nos apoios."
   ]
  },
  {
   "cell_type": "code",
   "execution_count": 5,
   "metadata": {
    "colab": {
     "base_uri": "https://localhost:8080/"
    },
    "id": "YPAq3SPIDXUT",
    "outputId": "b6e7c46d-7b35-4fe7-d738-45a7185435ca"
   },
   "outputs": [
    {
     "name": "stdout",
     "output_type": "stream",
     "text": [
      "Esforços no Apoio 📐\n",
      "M_G1:   +4.58714e+01 kN.m    M_G2:   +1.62516e+01 kN.m    M_G3:   +7.33942e+00 kN.m    M_Q1:   +1.57273e+01 kN.m    V_G1:   +4.37500e+01 kN    V_G2:   +1.55000e+01 kN    V_G3:   +7.00000e+00 kN    V_Q1:   +1.50000e+01 kN\n",
      "\n",
      "\n",
      "Esforços no Meio da viga 📐\n",
      "M_G1:   +2.18750e+02 kN.m    M_G2:   +7.75000e+01 kN.m    M_G3:   +3.50000e+01 kN.m    M_Q1:   +7.50000e+01 kN.m\n"
     ]
    }
   ],
   "source": [
    "# Momento máximo (meio do vão), momento apoios (no comp. de transferência) e cortante máximo (apoios)\n",
    "[M_MVG1K, M_APG1K, V_APG1K] = ESFORCOS(G_1, L, L_P)\n",
    "[M_MVG2K, M_APG2K, V_APG2K] = ESFORCOS(G_2, L, L_P)\n",
    "[M_MVG3K, M_APG3K, V_APG3K] = ESFORCOS(G_3, L, L_P)\n",
    "[M_MVQ1K, M_APQ1K, V_APQ1K] = ESFORCOS(Q_1, L, L_P)\n",
    "print(emoji.emojize('Esforços no Apoio :triangular_ruler:'))\n",
    "print('M_G1:  ', '%+10.5e' % M_APG1K, 'kN.m', '   M_G2:  ', '%+10.5e' % M_APG2K, 'kN.m', '   M_G3:  ', '%+10.5e' % M_APG3K, 'kN.m', '   M_Q1:  ', '%+10.5e' % M_APQ1K, 'kN.m', '   V_G1:  ', '%+10.5e' % V_APG1K, 'kN', '   V_G2:  ', '%+10.5e' % V_APG2K, 'kN', '   V_G3:  ', '%+10.5e' % V_APG3K, 'kN', '   V_Q1:  ', '%+10.5e' % V_APQ1K, 'kN')\n",
    "print('\\n')\n",
    "\n",
    "print(emoji.emojize('Esforços no Meio da viga :triangular_ruler:'))\n",
    "print('M_G1:  ', '%+10.5e' % M_MVG1K, 'kN.m', '   M_G2:  ', '%+10.5e' % M_MVG2K, 'kN.m', '   M_G3:  ', '%+10.5e' % M_MVG3K, 'kN.m', '   M_Q1:  ', '%+10.5e' % M_MVQ1K, 'kN.m')"
   ]
  },
  {
   "cell_type": "markdown",
   "metadata": {
    "id": "I5QbXTg7QuVw"
   },
   "source": [
    "## A célula abaixo verifica:\n",
    "- Faz uma sugestão de armadura que respeite a equação de Estado Limite de Serviço ELS-F no tempo infinito."
   ]
  },
  {
   "cell_type": "code",
   "execution_count": 6,
   "metadata": {
    "colab": {
     "base_uri": "https://localhost:8080/"
    },
    "id": "uE4Kg56bAv-S",
    "outputId": "c0eca95d-5853-47c7-f7d7-5cbf140f0a04"
   },
   "outputs": [
    {
     "name": "stdout",
     "output_type": "stream",
     "text": [
      "Sugestão de armadura 📐\n",
      "A_SCPINICIAL >=   +1.60164e-04 m²   Sugestão de armadura condição dos apoios\n",
      "A_SCPINICIAL >=   +7.63786e-04 m²   Sugestão de armadura condição do meio do vão\n",
      "\n",
      "\n"
     ]
    }
   ],
   "source": [
    "# Avaliação no apoio\n",
    "print(emoji.emojize('Sugestão de armadura :triangular_ruler:'))\n",
    "A_SCPINICIAL = ARMADURA_ASCP_ELS(A_C, W_INF, E_P, PSI_1, PSI_2, M_APG1K, M_APG2K, M_APG3K, M_APQ1K, SIGMA_PIINF, F_CTKINFJ[1])\n",
    "print('A_SCPINICIAL >=  ', '%+10.5e' % A_SCPINICIAL, 'm²', '  Sugestão de armadura condição dos apoios')\n",
    "# Avaliação no meio do vão\n",
    "A_SCPINICIAL = ARMADURA_ASCP_ELS(A_C, W_INF, E_P, PSI_1, PSI_2, M_MVG1K, M_MVG2K, M_MVG3K, M_MVQ1K, SIGMA_PIINF, F_CTKINFJ[1])\n",
    "print('A_SCPINICIAL >=  ', '%+10.5e' % A_SCPINICIAL, 'm²', '  Sugestão de armadura condição do meio do vão')\n",
    "print('\\n')"
   ]
  },
  {
   "cell_type": "markdown",
   "metadata": {},
   "source": [
    "- Aqui você usuário deverá inserir a armadura inicialmente escolhida para a peça"
   ]
  },
  {
   "cell_type": "code",
   "execution_count": 7,
   "metadata": {},
   "outputs": [
    {
     "name": "stdout",
     "output_type": "stream",
     "text": [
      "Digite o valor da armadura em m²: +7.63786e-04\n"
     ]
    }
   ],
   "source": [
    "A_SCP = float(input('Digite o valor da armadura em m²: '))"
   ]
  },
  {
   "cell_type": "markdown",
   "metadata": {
    "id": "I5QbXTg7QuVw"
   },
   "source": [
    "## A célula abaixo verifica:\n",
    "- Determina uma armadura que respeite a equação de Estado Limite de Serviço (ELS) de fissuração no tempo infinito."
   ]
  },
  {
   "cell_type": "code",
   "execution_count": 10,
   "metadata": {
    "colab": {
     "base_uri": "https://localhost:8080/",
     "height": 248
    },
    "id": "P-e0oY-_NiUG",
    "outputId": "f16a7493-0235-4516-c0c4-5ca672b62b4d"
   },
   "outputs": [
    {
     "name": "stdout",
     "output_type": "stream",
     "text": [
      "Verificações de tensões no apoio 📐\n",
      "Verificações de tensões no apoio 📐\n",
      "Verificações de tensões no apoio 📐\n",
      "tensões apoio:  18856.06964659273 -7038.484228900648\n"
     ]
    }
   ],
   "source": [
    "# Carga inicial de protensão após usuário sugerir armadura\n",
    "SIGMA_PI1 = SIGMA_PIINI\n",
    "P_I1 = SIGMA_PI1 * A_SCP\n",
    "print(emoji.emojize('Verificações de tensões no apoio :triangular_ruler:'))\n",
    "\n",
    "# Valores máximos das tensões\n",
    "SIGMA_TRACMAX = 1.20 * F_CTMJ[0]\n",
    "SIGMA_COMPMAX = 0.70 * F_CKJ[0]\n",
    "print(emoji.emojize('Verificações de tensões no apoio :triangular_ruler:'))\n",
    "\n",
    "# Verificação tensões normais no ato da protensão no apoio\n",
    "G = []\n",
    "[SIGMA_INF, SIGMA_SUP] = TENSOES_NORMAIS(P_I1, A_C, E_P, W_INF, W_SUP, 1, 1, 0, 0, 0, 0, PSI_1, M_APG1K, M_APG2K, M_APG3K, M_APQ1K, 0)\n",
    "[G_0, G_1] = VERIFICA_TENSAO_NORMAL_ATO_PROTENSÃO(SIGMA_INF, SIGMA_SUP, SIGMA_TRACMAX, SIGMA_COMPMAX)\n",
    "G.append(G_0); G.append(G_1)\n",
    "print(emoji.emojize('Verificações de tensões no apoio :triangular_ruler:'))\n",
    "print('tensões apoio: ', SIGMA_INF, SIGMA_SUP)\n",
    "\n",
    "# Verificação tensões normais no ato da protensão no meio do vão\n",
    "[SIGMA_INF, SIGMA_SUP] = TENSOES_NORMAIS(P_I1, A_C, E_P, W_INF, W_SUP, 1, 1, 0, 0, 0, 0, PSI_1, M_MVG1K, M_MVG2K, M_MVG3K, M_MVQ1K, 0)\n",
    "[G_2, G_3] = VERIFICA_TENSAO_NORMAL_ATO_PROTENSÃO(SIGMA_INF, SIGMA_SUP, SIGMA_TRACMAX, SIGMA_COMPMAX)\n",
    "G.append(G_2); G.append(G_3)"
   ]
  },
  {
   "cell_type": "markdown",
   "metadata": {
    "id": "I5QbXTg7QuVw"
   },
   "source": [
    "## A célula abaixo verifica:\n",
    "- Determina a armadura longitudinal A_SCP necessária para a peça."
   ]
  },
  {
   "cell_type": "code",
   "execution_count": 11,
   "metadata": {},
   "outputs": [
    {
     "name": "stdout",
     "output_type": "stream",
     "text": [
      "0.2930410290032334 0.0019220867669056659 0.0035 0.5327835883987065 0.0007317924858681034\n",
      "0.026402538509879975 0.01 0.010423390731046108 0.639438984596048 6.383775509400434e-05\n"
     ]
    }
   ],
   "source": [
    "# Momento de cálculo\n",
    "M_SD = (M_MVG1K + M_MVG2K + M_MVG3K + M_MVQ1K) * GAMMA_F\n",
    "\n",
    "# Altura útil\n",
    "D = Y_SUP + E_P\n",
    "\n",
    "# Propriedades do aço\n",
    "F_PD = F_PK / GAMMA_S\n",
    "F_YD = F_YK / GAMMA_S\n",
    "EPSILON_Y = F_YD / E_SCP\n",
    "\n",
    "# Armadura necessária\n",
    "X, EPSILON_S, EPSILON_C, Z, A_SCPNEC = AREA_ACO_FNS_RETANGULAR_SIMPLES('CP', M_SD, F_CK, B_W, D, E_SCP, SIGMA_PIINF, 35/1000, EPSILON_Y, F_PD, F_YD)\n",
    "print(X, EPSILON_S, EPSILON_C, Z, A_SCPNEC)\n",
    "\n",
    "# Armadura mínima\n",
    "M_MIN = MOMENTO_MINIMO(W_INF, F_CTKSUPJ[1])\n",
    "X, EPSILON_S, EPSILON_C, Z, A_SCPNEC = AREA_ACO_FNS_RETANGULAR_SIMPLES('CP', M_MIN, F_CK, B_W, D, E_SCP, SIGMA_PIINF, 35/1000, EPSILON_Y, F_PD, F_YD)\n",
    "print(X, EPSILON_S, EPSILON_C, Z, A_SCPNEC)"
   ]
  },
  {
   "cell_type": "markdown",
   "metadata": {
    "id": "I5QbXTg7QuVw"
   },
   "source": [
    "## A célula abaixo verifica:\n",
    "- Determina a armadura longitudinal A_SW necessária para a peça."
   ]
  },
  {
   "cell_type": "code",
   "execution_count": null,
   "metadata": {},
   "outputs": [],
   "source": []
  }
 ],
 "metadata": {
  "colab": {
   "collapsed_sections": [],
   "name": "VIGA_PREPRO.ipynb",
   "provenance": []
  },
  "kernelspec": {
   "display_name": "Python 3",
   "language": "python",
   "name": "python3"
  },
  "language_info": {
   "codemirror_mode": {
    "name": "ipython",
    "version": 3
   },
   "file_extension": ".py",
   "mimetype": "text/x-python",
   "name": "python",
   "nbconvert_exporter": "python",
   "pygments_lexer": "ipython3",
   "version": "3.8.3"
  }
 },
 "nbformat": 4,
 "nbformat_minor": 1
}
