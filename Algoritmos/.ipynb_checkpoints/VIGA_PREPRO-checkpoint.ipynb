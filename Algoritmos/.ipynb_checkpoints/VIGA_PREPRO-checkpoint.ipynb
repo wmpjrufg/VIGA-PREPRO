{
 "cells": [
  {
   "cell_type": "markdown",
   "metadata": {
    "id": "gSfAlrPM5Hgd"
   },
   "source": [
    "# VIGA PREPRO\n",
    "#### *Verificação de vigas biapoiadas, pré-fabricas e protendidas para protensão parcial*\n",
    "</br>\n",
    "<p align=\"justify\">Antes de iniciar o exemplo execute a célula de instalação do programa. Caso deseje rodar mais de um vez não é necessário instalar a biblioteca novamente.</p>\n"
   ]
  },
  {
   "cell_type": "code",
   "execution_count": 1,
   "metadata": {
    "colab": {
     "base_uri": "https://localhost:8080/"
    },
    "id": "ucv1CYc3JKzN",
    "outputId": "f53f7e69-ad2a-4ef9-e575-5c0009c40b92"
   },
   "outputs": [
    {
     "name": "stderr",
     "output_type": "stream",
     "text": [
      "C:\\Users\\wande\\Downloads\\GG\\VIGA_PREPRO.py:923: SyntaxWarning: 'int' object is not callable; perhaps you missed a comma?\n",
      "  W_1 = (DIAMETRO_ARMADURA / 12.5 * ETA_COEFICIENTE_ADERENCIA) * (SIGMA_S / E_SCP) * 3 (SIGMA_S / F_CTM)\n"
     ]
    },
    {
     "name": "stdout",
     "output_type": "stream",
     "text": [
      "Requirement already up-to-date: emoji in c:\\users\\wande\\anaconda3\\lib\\site-packages (1.4.1)\n"
     ]
    }
   ],
   "source": [
    "# Célula de instalação\n",
    "from VIGA_PREPRO import *\n",
    "!pip install emoji --upgrade\n",
    "import emoji\n",
    "import numpy as np"
   ]
  },
  {
   "cell_type": "markdown",
   "metadata": {
    "id": "iwbVTG0C4DP2"
   },
   "source": [
    "<p align=\"justify\">Prezado usuário digite os dados de entrada da sua viga biapoiada. <b>Antes de iniciar</b> o processo <b>verifique as unidades de entrada</b> na documentação.</p>"
   ]
  },
  {
   "cell_type": "code",
   "execution_count": 2,
   "metadata": {
    "id": "6_8mCMHTKiO9"
   },
   "outputs": [],
   "source": [
    "# Vetor de variável de projeto \n",
    "X = [0.25 , 0.70]\n",
    "# Geometria \n",
    "B_W = X[0]\n",
    "H = X[1]\n",
    "L = 20\n",
    "E_P = 0.30\n",
    "# Características do aço\n",
    "GAMMA_S = 78 \n",
    "TIPO_PROT = 'PRE'\n",
    "TIPO_ACO = 'RB'\n",
    "F_PK = 1864210.526\n",
    "F_YK = 1676573.427 \n",
    "# Características do concreto\n",
    "GAMMA_C = 25\n",
    "F_CK = 30 * 1E3\n",
    "CIMENTO = 'CP5'\n",
    "AGREGADO = 'GRA'\n",
    "# Carregamentos e coeficientes parciais\n",
    "G_1 = B_W * H * GAMMA_C \n",
    "G_2 = 1.55 \n",
    "G_3 = 0.70\n",
    "Q_1 = 1.5\n",
    "Q_2 = 0.0\n",
    "PSI_1 = 0.40\n",
    "PSI_2 = 0.30\n",
    "# Tempos do concreto\n",
    "TEMPO_CONC = [28, 50*365]\n",
    "# Perdas estimadas em percentual\n",
    "PERDA_INICIAL = 5\n",
    "PERDA_TEMPO = 17\n",
    "PHI_L = 12.5 / 1E3\n",
    "# Aderência das cordoalhas\n",
    "ETA_1 = 1.2\n",
    "ETA_2 = 1.0"
   ]
  },
  {
   "cell_type": "markdown",
   "metadata": {
    "id": "Gxsqs7pRNgiX"
   },
   "source": [
    "## A célula abaixo verifica:\n",
    "- Propriedades da seção retangular;\n",
    "- Propriedades do material na idade de protensão e infinito (50 anos de uso);\n",
    "- Tensão inicial nos cabos.\n",
    "\n"
   ]
  },
  {
   "cell_type": "code",
   "execution_count": 3,
   "metadata": {
    "colab": {
     "base_uri": "https://localhost:8080/"
    },
    "id": "Vo-4ZwKzPtO0",
    "outputId": "da9ef51e-c954-4d38-d117-e5ebe588b78e"
   },
   "outputs": [
    {
     "name": "stdout",
     "output_type": "stream",
     "text": [
      "Propriedades da seção transversal 📐\n",
      "A_C:  +1.75000e-01 m²\n",
      "0.175 0.007145833333333331 0.35 0.35 0.020416666666666663 0.020416666666666663 0.3\n",
      "\n",
      "\n",
      "Propriedades do material 📐\n",
      " 🕗\n",
      "Idade:     28 dias\n",
      "F_CKJ:     +3.00000e+04 kN/m²\n",
      "F_CTM:     +2.89647e+03 kN/m²\n",
      "F_CTKINF:  +2.02753e+03 kN/m²\n",
      "F_CTKSUP:  +3.76541e+03 kN/m²\n",
      "E_CI:      +3.06725e+07 kN/m²\n",
      "E_CS:      +2.68384e+07 kN/m²\n",
      "\n",
      "\n",
      " 🕗\n",
      "Idade:     18250 dias\n",
      "F_CKJ:     +3.00000e+04 kN/m²\n",
      "F_CTM:     +2.89647e+03 kN/m²\n",
      "F_CTKINF:  +2.02753e+03 kN/m²\n",
      "F_CTKSUP:  +3.76541e+03 kN/m²\n",
      "E_CI:      +3.06725e+07 kN/m²\n",
      "E_CS:      +2.68384e+07 kN/m²\n",
      "\n",
      "\n",
      "Tensão inicial na armadura 📐\n",
      "SIGMA_PI0:  +1.42509e+06 kN/m²\n"
     ]
    }
   ],
   "source": [
    "# Propriedades da seção\n",
    "[A_C, I_C, Y_SUP, Y_INF, W_SUP, W_INF] = PROP_GEOMETRICA(B_W,H)  \n",
    "print(emoji.emojize('Propriedades da seção transversal :triangular_ruler:'))\n",
    "print('A_C: ', '%+10.5e' % A_C, 'm²')\n",
    "print(A_C, I_C, Y_SUP, Y_INF, W_SUP, W_INF, E_P)\n",
    "print('\\n')\n",
    "\n",
    "# Propriedades do material em todos as etapas\n",
    "F_CKJ = []; F_CTMJ = []; F_CTKINFJ = []; F_CTKSUPJ = []; E_CIJ = []; E_CSJ = [];\n",
    "print(emoji.emojize('Propriedades do material :triangular_ruler:'))\n",
    "for I_COUNT in range(len(TEMPO_CONC)):\n",
    "    TEMPO = TEMPO_CONC[I_COUNT]\n",
    "    [F_CKJJ, F_CTM, F_CTKINF, F_CTKSUP, E_CI, E_CS] = PROP_MATERIAL(F_CK, TEMPO, CIMENTO, AGREGADO)\n",
    "    F_CKJ.append(F_CKJJ); F_CTMJ.append(F_CTM); F_CTKINFJ.append(F_CTKINF)\n",
    "    F_CTKSUPJ.append(F_CTKSUP); E_CIJ.append(E_CI), E_CSJ.append(E_CS) \n",
    "    print(emoji.emojize(' \\U0001f557'))\n",
    "    print('Idade:    ', TEMPO, 'dias')\n",
    "    print('F_CKJ:    ', '%+10.5e' % F_CKJJ, 'kN/m²')\n",
    "    print('F_CTM:    ', '%+10.5e' % F_CTM, 'kN/m²')\n",
    "    print('F_CTKINF: ', '%+10.5e' % F_CTKINF, 'kN/m²')\n",
    "    print('F_CTKSUP: ', '%+10.5e' % F_CTKSUP, 'kN/m²')\n",
    "    print('E_CI:     ', '%+10.5e' % E_CI, 'kN/m²')\n",
    "    print('E_CS:     ', '%+10.5e' % E_CS, 'kN/m²')\n",
    "    print('\\n')\n",
    "\n",
    "# Tensão inicial\n",
    "SIGMA_PI0 = TENSAO_INICIAL(TIPO_PROT, TIPO_ACO, F_PK, F_YK)\n",
    "print(emoji.emojize('Tensão inicial na armadura :triangular_ruler:'))\n",
    "print('SIGMA_PI0: ', '%+10.5e' % SIGMA_PI0, 'kN/m²')"
   ]
  },
  {
   "cell_type": "markdown",
   "metadata": {
    "id": "WmnKVYxuG016"
   },
   "source": [
    "## A célula abaixo verifica:\n",
    "- O comprimento de transferência na idade de inserção da protensão P_I;\n",
    "- O comprimento de transferência na idade de utilização da peça."
   ]
  },
  {
   "cell_type": "code",
   "execution_count": 4,
   "metadata": {
    "colab": {
     "base_uri": "https://localhost:8080/"
    },
    "id": "kIYpT22fGz1y",
    "outputId": "1859389a-94e5-46ac-8ec6-60f7591485f8"
   },
   "outputs": [
    {
     "name": "stdout",
     "output_type": "stream",
     "text": [
      "1.1833975636870315\n",
      "0.9716316838693522\n"
     ]
    }
   ],
   "source": [
    "# Copnsiderando a perda inicial\n",
    "SIGMA_PI1 = SIGMA_PI0 - SIGMA_PI0 * (PERDA_INICIAL / 100)\n",
    "# Comprimento de transferência\n",
    "L_PINI = COMPRIMENTO_TRANSFERENCIA(PHI_L, F_YK, F_CTKINFJ[0], ETA_1, ETA_2, SIGMA_PI1, H)\n",
    "print(L_PINI)\n",
    "\n",
    "# Copnsiderando a perda total\n",
    "PERDA_TOTAL = PERDA_INICIAL + PERDA_TEMPO\n",
    "SIGMA_PIINF = SIGMA_PI0 - SIGMA_PI0 * (PERDA_TOTAL / 100)\n",
    "# Comprimento de transferência\n",
    "L_PINF = COMPRIMENTO_TRANSFERENCIA(PHI_L, F_YK, F_CTKINFJ[1], ETA_1, ETA_2, SIGMA_PIINF, H)\n",
    "print(L_PINF)"
   ]
  },
  {
   "cell_type": "markdown",
   "metadata": {
    "id": "dp4y4RiOKcfY"
   },
   "source": [
    "## A célula abaixo verifica:\n",
    "- Esforços de flexão meio do vão e apoios;\n",
    "- Cisalhamento nos apoios."
   ]
  },
  {
   "cell_type": "code",
   "execution_count": 5,
   "metadata": {
    "colab": {
     "base_uri": "https://localhost:8080/"
    },
    "id": "YPAq3SPIDXUT",
    "outputId": "0b03908b-24c1-4c06-f9e9-146ca72f26b7"
   },
   "outputs": [
    {
     "name": "stdout",
     "output_type": "stream",
     "text": [
      "218.75 50.24192332440407 41.476311653082355 43.75\n",
      "77.5 17.79999569207458 14.694464699949178 15.5\n",
      "35.0 8.038707731904651 6.636209864493176 7.0\n",
      "75.0 17.225802282652822 14.220449709628236 15.0\n"
     ]
    }
   ],
   "source": [
    "# Momento máximo (meio do vão), momento apoios (no comp. de transferência) e cortante máximo (apoios)\n",
    "[M_MVG1K, M_APG1INIK, M_APG1INFK, V_APG1K] = ESFORCOS(G_1, L, L_PINI, L_PINF)\n",
    "print(M_MVG1K, M_APG1INIK, M_APG1INFK, V_APG1K)\n",
    "[M_MVG2K, M_APG2INIK, M_APG2INFK, V_APG2K] = ESFORCOS(G_2, L, L_PINI, L_PINF)\n",
    "print(M_MVG2K, M_APG2INIK, M_APG2INFK, V_APG2K)\n",
    "[M_MVG3K, M_APG3INIK, M_APG3INFK, V_APG3K] = ESFORCOS(G_3, L, L_PINI, L_PINF)\n",
    "print(M_MVG3K, M_APG3INIK, M_APG3INFK, V_APG3K)\n",
    "[M_MVQ1K, M_APQ1INIK, M_APQ1INFK, V_APQ1K] = ESFORCOS(Q_1, L, L_PINI, L_PINF)\n",
    "print(M_MVQ1K, M_APQ1INIK, M_APQ1INFK, V_APQ1K)"
   ]
  },
  {
   "cell_type": "markdown",
   "metadata": {
    "id": "I5QbXTg7QuVw"
   },
   "source": [
    "## A célula abaixo verifica:\n",
    "- Determina uma armadura que respeite a equação de Estado Limite Último (ELU) no ato da protensão e Estado Limite de Serviço (ELS) de fissuração no infinito;"
   ]
  },
  {
   "cell_type": "code",
   "execution_count": 6,
   "metadata": {
    "colab": {
     "base_uri": "https://localhost:8080/",
     "height": 189
    },
    "id": "uE4Kg56bAv-S",
    "outputId": "b04eb5fa-fbce-40af-8762-9f5192d0788b"
   },
   "outputs": [
    {
     "name": "stdout",
     "output_type": "stream",
     "text": [
      "0.000763785806098989\n",
      "0.00014481836859411384\n",
      "0.0011672453251391002 0.0011478520256508668\n",
      "0.0004883322428273616 0.0008491302694337016\n"
     ]
    }
   ],
   "source": [
    "# Avaliação no meio do vão no tempo infinito apoio\n",
    "A_SCPINICIAL = ARMADURA_ASCP_ELS(A_C, W_INF, E_P, PSI_1, PSI_2, M_APG1INFK, M_APG2INFK, M_APG3INFK, M_APQ1INFK, SIGMA_PIINF, F_CTKINFJ[1])\n",
    "print(A_SCPINICIAL)\n",
    "\n",
    "# Avaliação no meio do vão no tempo infinito meio do vão\n",
    "A_SCPINICIAL = ARMADURA_ASCP_ELS(A_C, W_INF, E_P, PSI_1, PSI_2, M_MVG1K, M_MVG2K, M_MVG3K, M_MVQ1K, SIGMA_PIINF, F_CTKINFJ[1])\n",
    "print(A_SCPINICIAL)\n",
    "\n",
    "# Avaliação no meio do vão no tempo inicial apoio\n",
    "AS1, AS2 = ARMADURA_ASCP_ELU(A_C, W_INF, W_SUP, E_P, PSI_1, PSI_2, M_APG1INIK, 0, 0, 0, SIGMA_PI1, F_CTMJ[0], F_CKJ[0])\n",
    "print(AS1, AS2)\n",
    "\n",
    "# Avaliação no meio do vão no tempo inicial meio do vão\n",
    "AS1, AS2 = ARMADURA_ASCP_ELU(A_C, W_INF, W_SUP, E_P, PSI_1, PSI_2, M_MVG1K, 0, 0, 0, SIGMA_PI1, F_CTMJ[0], F_CKJ[0])\n",
    "print(AS1, AS2)"
   ]
  },
  {
   "cell_type": "code",
   "execution_count": 7,
   "metadata": {
    "id": "P-e0oY-_NiUG"
   },
   "outputs": [
    {
     "ename": "NameError",
     "evalue": "name 'P_I1' is not defined",
     "output_type": "error",
     "traceback": [
      "\u001b[1;31m---------------------------------------------------------------------------\u001b[0m",
      "\u001b[1;31mNameError\u001b[0m                                 Traceback (most recent call last)",
      "\u001b[1;32m<ipython-input-7-909e91d4c74f>\u001b[0m in \u001b[0;36m<module>\u001b[1;34m\u001b[0m\n\u001b[0;32m      5\u001b[0m \u001b[0mSIGMA_TRACMAX\u001b[0m \u001b[1;33m=\u001b[0m \u001b[0mF_CTMJ\u001b[0m\u001b[1;33m[\u001b[0m\u001b[1;36m0\u001b[0m\u001b[1;33m]\u001b[0m\u001b[1;33m\u001b[0m\u001b[1;33m\u001b[0m\u001b[0m\n\u001b[0;32m      6\u001b[0m \u001b[0mSIGMA_COMPMAX\u001b[0m \u001b[1;33m=\u001b[0m \u001b[0mF_CKJ\u001b[0m\u001b[1;33m[\u001b[0m\u001b[1;36m0\u001b[0m\u001b[1;33m]\u001b[0m\u001b[1;33m\u001b[0m\u001b[1;33m\u001b[0m\u001b[0m\n\u001b[1;32m----> 7\u001b[1;33m \u001b[1;33m[\u001b[0m\u001b[0mSIGMA_INF\u001b[0m\u001b[1;33m,\u001b[0m \u001b[0mSIGMA_SUP\u001b[0m\u001b[1;33m]\u001b[0m \u001b[1;33m=\u001b[0m \u001b[0mTENSOES_NORMAIS\u001b[0m\u001b[1;33m(\u001b[0m\u001b[0mP_I1\u001b[0m\u001b[1;33m,\u001b[0m \u001b[0mA_C\u001b[0m\u001b[1;33m,\u001b[0m \u001b[0mE_P\u001b[0m\u001b[1;33m,\u001b[0m \u001b[0mW_INF\u001b[0m\u001b[1;33m,\u001b[0m \u001b[0mW_SUP\u001b[0m\u001b[1;33m,\u001b[0m \u001b[0mDELTA_P1\u001b[0m\u001b[1;33m,\u001b[0m \u001b[0mDELTA_G11\u001b[0m\u001b[1;33m,\u001b[0m \u001b[0mDELTA_G21\u001b[0m\u001b[1;33m,\u001b[0m \u001b[0mDELTA_G31\u001b[0m\u001b[1;33m,\u001b[0m \u001b[0mDELTA_Q11\u001b[0m\u001b[1;33m,\u001b[0m \u001b[0mDELTA_Q21\u001b[0m\u001b[1;33m,\u001b[0m \u001b[0mPSI_Q11\u001b[0m\u001b[1;33m,\u001b[0m \u001b[0mM_G1\u001b[0m\u001b[1;33m,\u001b[0m \u001b[0mM_G2\u001b[0m\u001b[1;33m,\u001b[0m \u001b[0mM_G3\u001b[0m\u001b[1;33m,\u001b[0m \u001b[0mM_Q1\u001b[0m\u001b[1;33m,\u001b[0m \u001b[0mM_Q2\u001b[0m\u001b[1;33m)\u001b[0m\u001b[1;33m\u001b[0m\u001b[1;33m\u001b[0m\u001b[0m\n\u001b[0m\u001b[0;32m      8\u001b[0m \u001b[0mprint\u001b[0m\u001b[1;33m(\u001b[0m\u001b[1;34m'tensões apoio: '\u001b[0m\u001b[1;33m,\u001b[0m \u001b[0mSIGMA_INF\u001b[0m\u001b[1;33m,\u001b[0m \u001b[0mSIGMA_SUP\u001b[0m\u001b[1;33m)\u001b[0m\u001b[1;33m\u001b[0m\u001b[1;33m\u001b[0m\u001b[0m\n\u001b[0;32m      9\u001b[0m \u001b[1;33m[\u001b[0m\u001b[0mG_0\u001b[0m\u001b[1;33m,\u001b[0m \u001b[0mG_1\u001b[0m\u001b[1;33m]\u001b[0m \u001b[1;33m=\u001b[0m \u001b[0mVERIFICA_TENSAO_NORMAL_ATO_PROTENSÃO\u001b[0m\u001b[1;33m(\u001b[0m\u001b[0mSIGMA_INF\u001b[0m\u001b[1;33m,\u001b[0m \u001b[0mSIGMA_SUP\u001b[0m\u001b[1;33m,\u001b[0m \u001b[0mSIGMA_TRACMAX\u001b[0m\u001b[1;33m,\u001b[0m \u001b[0mSIGMA_COMPMAX\u001b[0m\u001b[1;33m)\u001b[0m\u001b[1;33m\u001b[0m\u001b[1;33m\u001b[0m\u001b[0m\n",
      "\u001b[1;31mNameError\u001b[0m: name 'P_I1' is not defined"
     ]
    }
   ],
   "source": [
    "# Verificação tensões normais ELU no ato da protensão \n",
    "# Seção do apoio \n",
    "DELTA_P1 = 1; DELTA_G11 = 1; DELTA_G21 = 0 ; DELTA_G31 = 0; DELTA_Q11 = 0 ; DELTA_Q21 = 0; PSI_Q11 = 0.3  \n",
    "M_G1 = 0; M_G2 = 0; M_G3 = 0; M_Q1 = 0; M_Q2 = 0\n",
    "SIGMA_TRACMAX = F_CTMJ[0]\n",
    "SIGMA_COMPMAX = F_CKJ[0]\n",
    "[SIGMA_INF, SIGMA_SUP] = TENSOES_NORMAIS(P_I1, A_C, E_P, W_INF, W_SUP, DELTA_P1, DELTA_G11, DELTA_G21, DELTA_G31, DELTA_Q11, DELTA_Q21, PSI_Q11, M_G1, M_G2, M_G3, M_Q1, M_Q2)\n",
    "print('tensões apoio: ', SIGMA_INF, SIGMA_SUP)\n",
    "[G_0, G_1] = VERIFICA_TENSAO_NORMAL_ATO_PROTENSÃO(SIGMA_INF, SIGMA_SUP, SIGMA_TRACMAX, SIGMA_COMPMAX)\n",
    "G.append(G_0); G.append(G_1)\n",
    "# Seção do meio do vão\n",
    "M_G1 = M_G1K; M_G2 = 0; M_G3 = 0; M_Q1 = 0; M_Q2 = 0\n",
    "[SIGMA_INF, SIGMA_SUP] = TENSOES_NORMAIS(P_I1, A_C, E_P, W_INF, W_SUP, DELTA_P1, DELTA_G11, DELTA_G21, DELTA_G31, DELTA_Q11, DELTA_Q21, PSI_Q11, M_G1, M_G2, M_G3, M_Q1, M_Q2)\n",
    "print('tensões meio do vão: ', SIGMA_INF, SIGMA_SUP)\n",
    "[G_2, G_3] = VERIFICA_TENSAO_NORMAL_ATO_PROTENSÃO(SIGMA_INF, SIGMA_SUP, SIGMA_TRACMAX, SIGMA_COMPMAX)\n",
    "G.append(G_2); G.append(G_3)\n",
    "print(G)\n",
    "\n",
    "# Verificação tensões normais ELS para situações transitórias transporte na fábrica\n",
    "# Seção do apoio \n",
    "DELTA_P1 = 1; DELTA_G11 = 1; DELTA_G21 = 0 ; DELTA_G31 = 0; DELTA_Q11 = 0 ; DELTA_Q21 = 0; PSI_Q11 = 0.3  \n",
    "M_G1 = 0; M_G2 = 0; M_G3 = 0; M_Q1 = 0; M_Q2 = 0\n",
    "SIGMA_TRACMAX = F_CTMJ[0]\n",
    "SIGMA_COMPMAX = F_CKJ[0]\n",
    "[SIGMA_INF, SIGMA_SUP] = TENSOES_NORMAIS(P_I1, A_C, E_P, W_INF, W_SUP, DELTA_P1, DELTA_G11, DELTA_G21, DELTA_G31, DELTA_Q11, DELTA_Q21, PSI_Q11, M_G1, M_G2, M_G3, M_Q1, M_Q2)\n",
    "[G_0, G_1] = VERIFICA_TENSAO_NORMAL_ATO_PROTENSÃO(SIGMA_INF, SIGMA_SUP, SIGMA_TRACMAX, SIGMA_COMPMAX)\n",
    "G.append(G_0); G.append(G_1)\n",
    "# Seção do meio do vão\n",
    "M_G1 = M_G1K; M_G2 = 0; M_G3 = 0; M_Q1 = 0; M_Q2 = 0\n",
    "[SIGMA_INF, SIGMA_SUP] = TENSOES_NORMAIS(P_I1, A_C, E_P, W_INF, W_SUP, DELTA_P1, DELTA_G11, DELTA_G21, DELTA_G31, DELTA_Q11, DELTA_Q21, PSI_Q11, M_G1, M_G2, M_G3, M_Q1, M_Q2)\n",
    "[G_2, G_3] = VERIFICA_TENSAO_NORMAL_ATO_PROTENSÃO(SIGMA_INF, SIGMA_SUP, SIGMA_TRACMAX, SIGMA_COMPMAX)\n",
    "G.append(G_2); G.append(G_3)\n",
    "print(G)\n",
    "\n",
    "# Verificação tensões normais ELS para situações transitórias transporte para obra\n",
    "# Seção do apoio \n",
    "DELTA_P1 = 1; DELTA_G11 = 1; DELTA_G21 = 0 ; DELTA_G31 = 0; DELTA_Q11 = 0 ; DELTA_Q21 = 0; PSI_Q11 = 0.3  \n",
    "M_G1 = 0; M_G2 = 0; M_G3 = 0; M_Q1 = 0; M_Q2 = 0\n",
    "SIGMA_TRACMAX = F_CTMJ[0]\n",
    "SIGMA_COMPMAX = F_CKJ[0]\n",
    "[SIGMA_INF, SIGMA_SUP] = TENSOES_NORMAIS(P_I1, A_C, E_P, W_INF, W_SUP, DELTA_P1, DELTA_G11, DELTA_G21, DELTA_G31, DELTA_Q11, DELTA_Q21, PSI_Q11, M_G1, M_G2, M_G3, M_Q1, M_Q2)\n",
    "[G_0, G_1] = VERIFICA_TENSAO_NORMAL_ATO_PROTENSÃO(SIGMA_INF, SIGMA_SUP, SIGMA_TRACMAX, SIGMA_COMPMAX)\n",
    "G.append(G_0); G.append(G_1)\n",
    "# Seção do meio do vão\n",
    "M_G1 = M_G1K; M_G2 = 0; M_G3 = 0; M_Q1 = 0; M_Q2 = 0\n",
    "[SIGMA_INF, SIGMA_SUP] = TENSOES_NORMAIS(P_I1, A_C, E_P, W_INF, W_SUP, DELTA_P1, DELTA_G11, DELTA_G21, DELTA_G31, DELTA_Q11, DELTA_Q21, PSI_Q11, M_G1, M_G2, M_G3, M_Q1, M_Q2)\n",
    "[G_2, G_3] = VERIFICA_TENSAO_NORMAL_ATO_PROTENSÃO(SIGMA_INF, SIGMA_SUP, SIGMA_TRACMAX, SIGMA_COMPMAX)\n",
    "G.append(G_2); G.append(G_3)\n",
    "print(G)\n",
    "\n",
    "# Verificação tensões normais ELS para situações transitórias montagem\n",
    "# Seção do apoio \n",
    "DELTA_P1 = 1; DELTA_G11 = 1; DELTA_G21 = 0 ; DELTA_G31 = 0; DELTA_Q11 = 0 ; DELTA_Q21 = 0; PSI_Q11 = 0.3  \n",
    "M_G1 = 0; M_G2 = 0; M_G3 = 0; M_Q1 = 0; M_Q2 = 0\n",
    "SIGMA_TRACMAX = F_CTMJ[0]\n",
    "SIGMA_COMPMAX = F_CKJ[0]\n",
    "[SIGMA_INF, SIGMA_SUP] = TENSOES_NORMAIS(P_I1, A_C, E_P, W_INF, W_SUP, DELTA_P1, DELTA_G11, DELTA_G21, DELTA_G31, DELTA_Q11, DELTA_Q21, PSI_Q11, M_G1, M_G2, M_G3, M_Q1, M_Q2)\n",
    "[G_0, G_1] = VERIFICA_TENSAO_NORMAL_ATO_PROTENSÃO(SIGMA_INF, SIGMA_SUP, SIGMA_TRACMAX, SIGMA_COMPMAX)\n",
    "G.append(G_0); G.append(G_1)\n",
    "# Seção do meio do vão\n",
    "M_G1 = M_G1K; M_G2 = 0; M_G3 = 0; M_Q1 = 0; M_Q2 = 0\n",
    "[SIGMA_INF, SIGMA_SUP] = TENSOES_NORMAIS(P_I1, A_C, E_P, W_INF, W_SUP, DELTA_P1, DELTA_G11, DELTA_G21, DELTA_G31, DELTA_Q11, DELTA_Q21, PSI_Q11, M_G1, M_G2, M_G3, M_Q1, M_Q2)\n",
    "[G_2, G_3] = VERIFICA_TENSAO_NORMAL_ATO_PROTENSÃO(SIGMA_INF, SIGMA_SUP, SIGMA_TRACMAX, SIGMA_COMPMAX)\n",
    "G.append(G_2); G.append(G_3)\n",
    "print(G)\n",
    "\n",
    "# Verificação tensões normais ELS-DEF para situações transitórias em serviço\n",
    "# Seção do apoio \n",
    "DELTA_P1 = 1; DELTA_G11 = 1; DELTA_G21 = 0 ; DELTA_G31 = 0; DELTA_Q11 = 0 ; DELTA_Q21 = 0; PSI_Q11 = 0.3  \n",
    "M_G1 = 0; M_G2 = 0; M_G3 = 0; M_Q1 = 0; M_Q2 = 0\n",
    "SIGMA_TRACMAX = F_CTMJ[0]\n",
    "SIGMA_COMPMAX = F_CKJ[0]\n",
    "[SIGMA_INF, SIGMA_SUP] = TENSOES_NORMAIS(P_I1, A_C, E_P, W_INF, W_SUP, DELTA_P1, DELTA_G11, DELTA_G21, DELTA_G31, DELTA_Q11, DELTA_Q21, PSI_Q11, M_G1, M_G2, M_G3, M_Q1, M_Q2)\n",
    "\n",
    "[G_0, G_1] = VERIFICA_TENSAO_NORMAL_ATO_PROTENSÃO(SIGMA_INF, SIGMA_SUP, SIGMA_TRACMAX, SIGMA_COMPMAX)\n",
    "G.append(G_0); G.append(G_1)\n",
    "# Seção do meio do vão\n",
    "M_G1 = M_G1K; M_G2 = 0; M_G3 = 0; M_Q1 = 0; M_Q2 = 0\n",
    "[SIGMA_INF, SIGMA_SUP] = TENSOES_NORMAIS(P_I1, A_C, E_P, W_INF, W_SUP, DELTA_P1, DELTA_G11, DELTA_G21, DELTA_G31, DELTA_Q11, DELTA_Q21, PSI_Q11, M_G1, M_G2, M_G3, M_Q1, M_Q2)\n",
    "print('tensões meio do vão: ', SIGMA_INF, SIGMA_SUP)\n",
    "[G_2, G_3] = VERIFICA_TENSAO_NORMAL_ATO_PROTENSÃO(SIGMA_INF, SIGMA_SUP, SIGMA_TRACMAX, SIGMA_COMPMAX)\n",
    "G.append(G_2); G.append(G_3)\n",
    "print(G)\n",
    "\n",
    "# Verificação de cisalhamento\n",
    "# Vrd1\n",
    "# Vrd2\n",
    "\n",
    "# Verificação de armadura de aço\n",
    "# As,calc\n",
    "SIGMA_PI = 1162.4*1E3\n",
    "A_C = 0.1245; W_INF = 2.028*1E-2; E_P = 0.30\n",
    "M_G1 = 155.2; M_G2 = 77.50;  M_G3 = 35; M_Q1 = 75\n",
    "PSI1_Q1 = 0.40; PSI2_Q1 = 0.30\n",
    "F_CTKINFJ = 2456\n",
    "\n",
    "\n",
    "A_SCPINICIAL = DETERMINACAO_ARMADURA_ASCP(A_C, W_INF, E_P, PSI1_Q1, PSI2_Q1, M_G1, M_G2, M_G3, M_Q1, SIGMA_PI, F_CTKINFJ)\n",
    "print(A_SCPINICIAL)"
   ]
  }
 ],
 "metadata": {
  "colab": {
   "collapsed_sections": [],
   "name": "VIGA PREPRO.ipynb",
   "provenance": []
  },
  "kernelspec": {
   "display_name": "Python 3",
   "language": "python",
   "name": "python3"
  },
  "language_info": {
   "codemirror_mode": {
    "name": "ipython",
    "version": 3
   },
   "file_extension": ".py",
   "mimetype": "text/x-python",
   "name": "python",
   "nbconvert_exporter": "python",
   "pygments_lexer": "ipython3",
   "version": "3.8.3"
  }
 },
 "nbformat": 4,
 "nbformat_minor": 1
}
