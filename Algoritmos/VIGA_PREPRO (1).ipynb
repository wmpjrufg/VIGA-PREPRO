{
 "cells": [
  {
   "cell_type": "markdown",
   "metadata": {
    "id": "gSfAlrPM5Hgd"
   },
   "source": [
    "# VIGA PREPRO\n",
    "#### *Verificação de vigas biapoiadas, pré-fabricas e protendidas para protensão parcial*\n",
    "</br>\n",
    "<p align=\"justify\">Antes de iniciar o exemplo execute a célula de instalação do programa. Caso deseje rodar mais de um vez não é necessário instalar a biblioteca novamente.</p>\n"
   ]
  },
  {
   "cell_type": "code",
   "execution_count": 1,
   "metadata": {
    "colab": {
     "base_uri": "https://localhost:8080/"
    },
    "id": "ucv1CYc3JKzN",
    "outputId": "192c1335-a5b1-46eb-979a-935be19a30e3"
   },
   "outputs": [
    {
     "name": "stderr",
     "output_type": "stream",
     "text": [
      "C:\\Users\\Usuario\\Documents\\GitHub\\VIGA-PREPRO\\Algoritmos\\VIGA_PREPRO.py:991: SyntaxWarning: 'int' object is not callable; perhaps you missed a comma?\n",
      "  W_1 = (DIAMETRO_ARMADURA / 12.5 * ETA_COEFICIENTE_ADERENCIA) * (SIGMA_S / E_SCP) * 3 (SIGMA_S / F_CTM)\n"
     ]
    },
    {
     "name": "stdout",
     "output_type": "stream",
     "text": [
      "Requirement already up-to-date: emoji in c:\\programdata\\anaconda3\\lib\\site-packages (1.4.1)\n"
     ]
    }
   ],
   "source": [
    "# Célula de instalação\n",
    "from VIGA_PREPRO import *\n",
    "!pip install emoji --upgrade\n",
    "import emoji\n",
    "import numpy as np"
   ]
  },
  {
   "cell_type": "markdown",
   "metadata": {
    "id": "iwbVTG0C4DP2"
   },
   "source": [
    "<p align=\"justify\">Prezado usuário digite os dados de entrada da sua viga biapoiada. <b>Antes de iniciar</b> o processo <b>verifique as unidades de entrada</b> na documentação.</p>"
   ]
  },
  {
   "cell_type": "code",
   "execution_count": 2,
   "metadata": {
    "id": "6_8mCMHTKiO9"
   },
   "outputs": [],
   "source": [
    "# Vetor de variável de projeto \n",
    "X = [0.25 , 0.70]\n",
    "# Geometria \n",
    "B_W = X[0]\n",
    "H = X[1]\n",
    "L = 20\n",
    "E_P = 0.30\n",
    "# Características do aço\n",
    "E_SCP = 195E6\n",
    "GAMMA_S = 78 \n",
    "TIPO_PROT = 'PRE'\n",
    "TIPO_ACO = 'RB'\n",
    "F_PK = 1864210.526\n",
    "F_YK = 1676573.427 \n",
    "# Características do concreto\n",
    "GAMMA_C = 25\n",
    "F_CK = 30 * 1E3\n",
    "CIMENTO = 'CP5'\n",
    "AGREGADO = 'GRA'\n",
    "# Carregamentos e coeficientes parciais\n",
    "G_1 = B_W * H * GAMMA_C \n",
    "G_2 = 1.55 \n",
    "G_3 = 0.70\n",
    "Q_1 = 1.5\n",
    "Q_2 = 0.0\n",
    "PSI_1 = 0.40\n",
    "PSI_2 = 0.30\n",
    "GAMMA_F = 1.40\n",
    "GAMMA_S = 1.15\n",
    "# Tempos do concreto\n",
    "TEMPO_CONC = [28, 50*365]\n",
    "# Perdas estimadas em percentual\n",
    "PERDA_INICIAL = 5\n",
    "PERDA_TEMPO = 17\n",
    "PHI_L = 12.5 / 1E3\n",
    "# Aderência das cordoalhas\n",
    "ETA_1 = 1.2\n",
    "ETA_2 = 1.0"
   ]
  },
  {
   "cell_type": "markdown",
   "metadata": {
    "id": "Gxsqs7pRNgiX"
   },
   "source": [
    "## A célula abaixo verifica:\n",
    "- Propriedades geométrica da seção retangular;\n",
    "- Propriedades do material na idade de protensão e infinito (50 anos de uso);\n",
    "- Tensão inicial nos cabos.\n",
    "\n"
   ]
  },
  {
   "cell_type": "code",
   "execution_count": 3,
   "metadata": {
    "colab": {
     "base_uri": "https://localhost:8080/"
    },
    "id": "Vo-4ZwKzPtO0",
    "outputId": "284a2349-34a8-486b-cd9a-abb4173836da"
   },
   "outputs": [
    {
     "name": "stdout",
     "output_type": "stream",
     "text": [
      "Propriedades da seção transversal 📐\n",
      "A_C:    +1.75000e-01 m²\n",
      "I_C:    +7.14583e-03 m^4\n",
      "Y_SUP:  +3.50000e-01 m\n",
      "Y_INF:  +3.50000e-01 m\n",
      "W_SUP:  +2.04167e-02 m³\n",
      "W_INF:  +2.04167e-02 m³\n",
      "E_P:    +3.00000e-01 m\n",
      "\n",
      "\n",
      "Propriedades do material 📐\n",
      " 🕗\n",
      "Idade:     28 dias\n",
      "F_CKJ:     +3.00000e+04 kN/m²\n",
      "F_CTM:     +2.89647e+03 kN/m²\n",
      "F_CTKINF:  +2.02753e+03 kN/m²\n",
      "F_CTKSUP:  +3.76541e+03 kN/m²\n",
      "E_CI:      +3.06725e+07 kN/m²\n",
      "E_CS:      +2.68384e+07 kN/m²\n",
      "\n",
      "\n",
      " 🕗\n",
      "Idade:     18250 dias\n",
      "F_CKJ:     +3.00000e+04 kN/m²\n",
      "F_CTM:     +2.89647e+03 kN/m²\n",
      "F_CTKINF:  +2.02753e+03 kN/m²\n",
      "F_CTKSUP:  +3.76541e+03 kN/m²\n",
      "E_CI:      +3.06725e+07 kN/m²\n",
      "E_CS:      +2.68384e+07 kN/m²\n",
      "\n",
      "\n",
      "Tensão inicial na armadura 📐\n",
      "SIGMA_PI0:  +1.42509e+06 kN/m²\n"
     ]
    }
   ],
   "source": [
    "# Propriedades da seção\n",
    "[A_C, I_C, Y_SUP, Y_INF, W_SUP, W_INF] = PROP_GEOMETRICA(B_W,H)  \n",
    "print(emoji.emojize('Propriedades da seção transversal :triangular_ruler:'))\n",
    "print('A_C:   ', '%+10.5e' % A_C, 'm²')\n",
    "print('I_C:   ', '%+10.5e' % I_C, 'm^4')\n",
    "print('Y_SUP: ', '%+10.5e' % Y_SUP, 'm')\n",
    "print('Y_INF: ', '%+10.5e' % Y_INF, 'm')\n",
    "print('W_SUP: ', '%+10.5e' % W_SUP, 'm³')\n",
    "print('W_INF: ', '%+10.5e' % W_INF, 'm³')\n",
    "print('E_P:   ', '%+10.5e' % E_P, 'm')\n",
    "print('\\n')\n",
    "\n",
    "# Propriedades do material em todos as etapas\n",
    "F_CKJ = []; F_CTMJ = []; F_CTKINFJ = []; F_CTKSUPJ = []; E_CIJ = []; E_CSJ = [];\n",
    "print(emoji.emojize('Propriedades do material :triangular_ruler:'))\n",
    "for I_COUNT in range(len(TEMPO_CONC)):\n",
    "    TEMPO = TEMPO_CONC[I_COUNT]\n",
    "    [F_CKJJ, F_CTM, F_CTKINF, F_CTKSUP, E_CI, E_CS] = PROP_MATERIAL(F_CK, TEMPO, CIMENTO, AGREGADO)\n",
    "    F_CKJ.append(F_CKJJ); F_CTMJ.append(F_CTM); F_CTKINFJ.append(F_CTKINF)\n",
    "    F_CTKSUPJ.append(F_CTKSUP); E_CIJ.append(E_CI), E_CSJ.append(E_CS) \n",
    "    print(emoji.emojize(' \\U0001f557'))\n",
    "    print('Idade:    ', TEMPO, 'dias')\n",
    "    print('F_CKJ:    ', '%+10.5e' % F_CKJJ, 'kN/m²')\n",
    "    print('F_CTM:    ', '%+10.5e' % F_CTM, 'kN/m²')\n",
    "    print('F_CTKINF: ', '%+10.5e' % F_CTKINF, 'kN/m²')\n",
    "    print('F_CTKSUP: ', '%+10.5e' % F_CTKSUP, 'kN/m²')\n",
    "    print('E_CI:     ', '%+10.5e' % E_CI, 'kN/m²')\n",
    "    print('E_CS:     ', '%+10.5e' % E_CS, 'kN/m²')\n",
    "    print('\\n')\n",
    "\n",
    "# Tensão inicial\n",
    "SIGMA_PI0 = TENSAO_INICIAL(TIPO_PROT, TIPO_ACO, F_PK, F_YK)\n",
    "print(emoji.emojize('Tensão inicial na armadura :triangular_ruler:'))\n",
    "print('SIGMA_PI0: ', '%+10.5e' % SIGMA_PI0, 'kN/m²')"
   ]
  },
  {
   "cell_type": "markdown",
   "metadata": {
    "id": "WmnKVYxuG016"
   },
   "source": [
    "## A célula abaixo verifica:\n",
    "- O comprimento de transferência da peça."
   ]
  },
  {
   "cell_type": "code",
   "execution_count": 4,
   "metadata": {
    "colab": {
     "base_uri": "https://localhost:8080/"
    },
    "id": "kIYpT22fGz1y",
    "outputId": "a8f1a685-ba4d-44d5-943f-fd321538da84"
   },
   "outputs": [
    {
     "name": "stdout",
     "output_type": "stream",
     "text": [
      "Comprimento de transferência considerando as perdas iniciais 📐\n",
      "L_P:  +1.07751e+00 m\n",
      "\n",
      "\n"
     ]
    }
   ],
   "source": [
    "# Determinação do comprimento de transferência\n",
    "SIGMA_PIINI = SIGMA_PI0 - SIGMA_PI0 * (PERDA_INICIAL / 100)\n",
    "PERDA_TOTAL = PERDA_INICIAL + PERDA_TEMPO\n",
    "SIGMA_PIINF = SIGMA_PI0 - SIGMA_PI0 * (PERDA_TOTAL / 100)\n",
    "L_PINI = COMPRIMENTO_TRANSFERENCIA(PHI_L, F_YK, F_CTKINFJ[0], ETA_1, ETA_2, SIGMA_PIINI, H)\n",
    "L_PINF = COMPRIMENTO_TRANSFERENCIA(PHI_L, F_YK, F_CTKINFJ[1], ETA_1, ETA_2, SIGMA_PIINF, H)\n",
    "L_P = np.mean([L_PINI, L_PINF])\n",
    "print(emoji.emojize('Comprimento de transferência considerando as perdas iniciais :triangular_ruler:'))\n",
    "print('L_P: ', '%+10.5e' % L_P, 'm')\n",
    "print('\\n')"
   ]
  },
  {
   "cell_type": "markdown",
   "metadata": {
    "id": "dp4y4RiOKcfY"
   },
   "source": [
    "## A célula abaixo verifica:\n",
    "- Esforços de flexão meio do vão e apoios (no comp. de transferência);\n",
    "- Cisalhamento nos apoios."
   ]
  },
  {
   "cell_type": "code",
   "execution_count": 5,
   "metadata": {
    "colab": {
     "base_uri": "https://localhost:8080/"
    },
    "id": "YPAq3SPIDXUT",
    "outputId": "c455a9fd-6065-4dcf-8b33-bd8044d2f2e3"
   },
   "outputs": [
    {
     "name": "stdout",
     "output_type": "stream",
     "text": [
      "Esforços devido aos carregametos G e Q (M = kN.m, V = kN) 📐\n",
      "MV = Meio do vão, AP = Apoio\n",
      "\n",
      "\n",
      "M_G1MV:   +2.18750e+02    M_G1AP:   +4.58714e+01    V_G1AP:   +4.37500e+01\n",
      "M_G2MV:   +7.75000e+01    M_G2AP:   +1.62516e+01    V_G2AP:   +1.55000e+01\n",
      "M_G3MV:   +3.50000e+01    M_G3AP:   +7.33942e+00    V_G2AP:   +7.00000e+00\n",
      "M_Q1MV:   +7.50000e+01    M_Q1AP:   +1.57273e+01    V_Q1AP:   +1.50000e+01\n"
     ]
    }
   ],
   "source": [
    "# Momento máximo (meio do vão), momento apoios (no comp. de transferência) e cortante máximo (apoios)\n",
    "[M_MVG1K, M_APG1K, V_APG1K] = ESFORCOS(G_1, L, L_P)\n",
    "[M_MVG2K, M_APG2K, V_APG2K] = ESFORCOS(G_2, L, L_P)\n",
    "[M_MVG3K, M_APG3K, V_APG3K] = ESFORCOS(G_3, L, L_P)\n",
    "[M_MVQ1K, M_APQ1K, V_APQ1K] = ESFORCOS(Q_1, L, L_P)\n",
    "print(emoji.emojize('Esforços devido aos carregametos G e Q (M = kN.m, V = kN) :triangular_ruler:'))\n",
    "print('MV = Meio do vão, AP = Apoio')\n",
    "print('\\n')\n",
    "print('M_G1MV:  ', '%+10.5e' % M_MVG1K, '   M_G1AP:  ', '%+10.5e' % M_APG1K,  '   V_G1AP:  ', '%+10.5e' % V_APG1K)\n",
    "print('M_G2MV:  ', '%+10.5e' % M_MVG2K, '   M_G2AP:  ', '%+10.5e' % M_APG2K,  '   V_G2AP:  ', '%+10.5e' % V_APG2K)\n",
    "print('M_G3MV:  ', '%+10.5e' % M_MVG3K, '   M_G3AP:  ', '%+10.5e' % M_APG3K,  '   V_G2AP:  ', '%+10.5e' % V_APG3K)\n",
    "print('M_Q1MV:  ', '%+10.5e' % M_MVQ1K, '   M_Q1AP:  ', '%+10.5e' % M_APQ1K,  '   V_Q1AP:  ', '%+10.5e' % V_APQ1K)"
   ]
  },
  {
   "cell_type": "markdown",
   "metadata": {
    "id": "I5QbXTg7QuVw"
   },
   "source": [
    "## A célula abaixo verifica:\n",
    "- Faz uma sugestão de armadura que respeite a equação de Estado Limite de Serviço ELS-F no tempo infinito."
   ]
  },
  {
   "cell_type": "code",
   "execution_count": 6,
   "metadata": {
    "colab": {
     "base_uri": "https://localhost:8080/"
    },
    "id": "uE4Kg56bAv-S",
    "outputId": "67c55c2a-705d-46c3-9113-b76e2cd7bf4b"
   },
   "outputs": [
    {
     "name": "stdout",
     "output_type": "stream",
     "text": [
      "Sugestão de armadura 📐\n",
      "A_SCPINICIAL0 >=   +1.60164e-04 m²   Sugestão de armadura condição dos apoios\n",
      "A_SCPINICIAL1 >=   +7.63786e-04 m²   Sugestão de armadura condição do meio do vão\n",
      "A_SCP =            +7.63786e-04 m²   Sugestão de armadura inicial escolhida\n",
      "\n",
      "\n"
     ]
    }
   ],
   "source": [
    "# Avaliação no apoio\n",
    "print(emoji.emojize('Sugestão de armadura :triangular_ruler:'))\n",
    "A_SCPINICIAL0 = ARMADURA_ASCP_ELS(A_C, W_INF, E_P, PSI_1, PSI_2, M_APG1K, M_APG2K, M_APG3K, M_APQ1K, SIGMA_PIINF, F_CTKINFJ[1])\n",
    "print('A_SCPINICIAL0 >=  ', '%+10.5e' % A_SCPINICIAL0, 'm²', '  Sugestão de armadura condição dos apoios')\n",
    "# Avaliação no meio do vão\n",
    "A_SCPINICIAL1 = ARMADURA_ASCP_ELS(A_C, W_INF, E_P, PSI_1, PSI_2, M_MVG1K, M_MVG2K, M_MVG3K, M_MVQ1K, SIGMA_PIINF, F_CTKINFJ[1])\n",
    "A_SCP = max(A_SCPINICIAL0, A_SCPINICIAL1)\n",
    "print('A_SCPINICIAL1 >=  ', '%+10.5e' % A_SCPINICIAL1, 'm²', '  Sugestão de armadura condição do meio do vão')\n",
    "print('A_SCP =           ', '%+10.5e' % A_SCP, 'm²', '  Sugestão de armadura inicial escolhida')\n",
    "print('\\n')"
   ]
  },
  {
   "cell_type": "markdown",
   "metadata": {
    "id": "d0Upet8BcF4W"
   },
   "source": [
    "## A célula abaixo verifica:\n",
    "- Verifica as tensões normais no ato da protensão (ELU)."
   ]
  },
  {
   "cell_type": "code",
   "execution_count": 7,
   "metadata": {
    "colab": {
     "base_uri": "https://localhost:8080/"
    },
    "id": "P-e0oY-_NiUG",
    "outputId": "657ed281-af39-4755-9b00-4926675ac33e"
   },
   "outputs": [
    {
     "name": "stdout",
     "output_type": "stream",
     "text": [
      "Verificações ELU no ato da protensão 📐\n",
      "Parâmetros da protensão\n",
      "SIGMA_PI1:      +1.35383e+06 kN/m²\n",
      "P_I1:           +1.03404e+03 kN\n",
      "\n",
      "\n",
      "Valores máximos das tensões \n",
      "SIGMA_TRACMAX:  +3.47576e+03 kN/m²\n",
      "SIGMA_COMPMAX:  +2.10000e+04 kN/m²\n",
      "\n",
      "\n",
      "Verificação das tensões normais nos bordos no apoio \n",
      "Bordo inferior: +1.88561e+04 kN/m² -1.02092e-01\n",
      "Bordo inferior: -7.03848e+03 kN/m² +1.02502e+00\n",
      "\n",
      "\n",
      "Verificação das tensões normais nos bordos no meio do vão \n",
      "Bordo inferior: +1.03885e+04 kN/m² -5.05308e-01\n",
      "Bordo inferior: +1.42904e+03 kN/m² -9.31950e-01\n",
      "\n",
      "\n"
     ]
    }
   ],
   "source": [
    "# Carga inicial de protensão após usuário sugerir armadura\n",
    "print(emoji.emojize('Verificações ELU no ato da protensão :triangular_ruler:'))\n",
    "SIGMA_PI1 = SIGMA_PIINI\n",
    "P_I1 = SIGMA_PI1 * A_SCP\n",
    "print('Parâmetros da protensão')\n",
    "print('SIGMA_PI1:     ' , '%+10.5e' % SIGMA_PI1, 'kN/m²')\n",
    "print('P_I1:          ' , '%+10.5e' % P_I1, 'kN')\n",
    "print('\\n')\n",
    "\n",
    "\n",
    "# Valores máximos das tensões\n",
    "SIGMA_TRACMAX = 1.20 * F_CTMJ[0]\n",
    "SIGMA_COMPMAX = 0.70 * F_CKJ[0]\n",
    "print('Valores máximos das tensões ')\n",
    "print('SIGMA_TRACMAX: ' , '%+10.5e' % SIGMA_TRACMAX, 'kN/m²')\n",
    "print('SIGMA_COMPMAX: ' , '%+10.5e' % SIGMA_COMPMAX, 'kN/m²')\n",
    "print('\\n')\n",
    "# Verificação tensões normais no ato da protensão no apoio\n",
    "G = []\n",
    "[SIGMA_INF, SIGMA_SUP] = TENSOES_NORMAIS(P_I1, A_C, E_P, W_INF, W_SUP, 1, 1, 0, 0, 0, 0, PSI_1, M_APG1K, M_APG2K, M_APG3K, M_APQ1K, 0)\n",
    "[G_0, G_1] = VERIFICA_TENSAO_NORMAL_ATO_PROTENSÃO(SIGMA_INF, SIGMA_SUP, SIGMA_TRACMAX, SIGMA_COMPMAX)\n",
    "G.append(G_0); G.append(G_1)\n",
    "print('Verificação das tensões normais nos bordos no apoio ')\n",
    "print('Bordo inferior:', '%+10.5e' % SIGMA_INF, 'kN/m²', '%+10.5e' % G_0)\n",
    "print('Bordo inferior:', '%+10.5e' % SIGMA_SUP, 'kN/m²', '%+10.5e' % G_1)\n",
    "print('\\n')\n",
    "# Verificação tensões normais no ato da protensão no meio do vão\n",
    "[SIGMA_INF, SIGMA_SUP] = TENSOES_NORMAIS(P_I1, A_C, E_P, W_INF, W_SUP, 1, 1, 0, 0, 0, 0, PSI_1, M_MVG1K, M_MVG2K, M_MVG3K, M_MVQ1K, 0)\n",
    "[G_2, G_3] = VERIFICA_TENSAO_NORMAL_ATO_PROTENSÃO(SIGMA_INF, SIGMA_SUP, SIGMA_TRACMAX, SIGMA_COMPMAX)\n",
    "G.append(G_2); G.append(G_3)\n",
    "print('Verificação das tensões normais nos bordos no meio do vão ')\n",
    "print('Bordo inferior:', '%+10.5e' % SIGMA_INF, 'kN/m²', '%+10.5e' % G_2)\n",
    "print('Bordo inferior:', '%+10.5e' % SIGMA_SUP, 'kN/m²', '%+10.5e' % G_3)\n",
    "print('\\n')\n"
   ]
  },
  {
   "cell_type": "markdown",
   "metadata": {
    "id": "AYYhfITwcF4Y"
   },
   "source": [
    "## A célula abaixo verifica:\n",
    "- Determina a armadura longitudinal A_SCP necessária para a peça."
   ]
  },
  {
   "cell_type": "code",
   "execution_count": 8,
   "metadata": {
    "colab": {
     "base_uri": "https://localhost:8080/"
    },
    "id": "fGc63L18cF4Z",
    "outputId": "1f83335a-58af-43b3-da71-1050b4329032"
   },
   "outputs": [
    {
     "name": "stdout",
     "output_type": "stream",
     "text": [
      "Verificação da armadura necessárria  📐\n",
      "Momento de cálculo\n",
      "M_SD:  +5.68750e+02 kN.m\n",
      "\n",
      "\n",
      "Altura útil\n",
      "D:  +6.50000e-01 m\n",
      "\n",
      "\n",
      "Propriedades do aço\n",
      "F_PD:       +1.62105e+06 kN/m²\n",
      "F_YD:       +1.45789e+06 kN/m²\n",
      "EPSILON_Y:  +7.47636e-03\n",
      "\n",
      "\n",
      "Armadura necessária\n",
      "X:          +2.93041e-01 m\n",
      "EPSILON_S:  +1.92209e-03\n",
      "EPSILON_C:  +3.50000e-03\n",
      "Z:          +5.32784e-01 m\n",
      "A_SCPNEC:   +7.31792e-04 m² -4.18878e-02\n",
      "\n",
      "\n",
      "Armadura necessária\n",
      "X:          +2.64025e-02 m\n",
      "EPSILON_S:  +1.00000e-02\n",
      "EPSILON_C:  +1.04234e-02\n",
      "Z:          +6.39439e-01 m\n",
      "A_SCPNEC:   +6.38378e-05 m²\n",
      "\n",
      "\n"
     ]
    }
   ],
   "source": [
    "print(emoji.emojize('Verificação da armadura necessárria  :triangular_ruler:'))\n",
    "# Momento de cálculo\n",
    "M_SD = (M_MVG1K + M_MVG2K + M_MVG3K + M_MVQ1K) * GAMMA_F\n",
    "print('Momento de cálculo')\n",
    "print('M_SD: ', '%+10.5e' % M_SD, 'kN.m')\n",
    "print('\\n')\n",
    "# Altura útil\n",
    "D = Y_SUP + E_P\n",
    "print('Altura útil')\n",
    "print('D: ',   '%+10.5e' % D, 'm')\n",
    "print('\\n')\n",
    "# Propriedades do aço\n",
    "F_PD = F_PK / GAMMA_S\n",
    "F_YD = F_YK / GAMMA_S\n",
    "EPSILON_Y = F_YD / E_SCP\n",
    "print('Propriedades do aço')\n",
    "print('F_PD:      ',   '%+10.5e' % F_PD, 'kN/m²')\n",
    "print('F_YD:      ',   '%+10.5e' % F_YD, 'kN/m²')\n",
    "print('EPSILON_Y: ',   '%+10.5e' % EPSILON_Y)\n",
    "print('\\n')\n",
    "\n",
    "# Armadura necessária\n",
    "X, EPSILON_S, EPSILON_C, Z, A_SCPNEC = AREA_ACO_FNS_RETANGULAR_SIMPLES('CP', M_SD, F_CK, B_W, D, E_SCP, SIGMA_PIINF, 35/1000, EPSILON_Y, F_PD, F_YD)\n",
    "G_4 = VERIFICA_ARMADURA_FLEXAO(A_SCP, A_SCPNEC)\n",
    "G.append(G_4)\n",
    "G_4 = VERIFICA_ARMADURA_FLEXAO(A_SCP, A_SCPNEC)\n",
    "G.append(G_4)\n",
    "print('Armadura necessária')\n",
    "print('X:         ',   '%+10.5e' % X, 'm')\n",
    "print('EPSILON_S: ',   '%+10.5e' % EPSILON_S)\n",
    "print('EPSILON_C: ',   '%+10.5e' % EPSILON_C)\n",
    "print('Z:         ',   '%+10.5e' % Z, 'm')\n",
    "print('A_SCPNEC:  ',   '%+10.5e' % A_SCPNEC, 'm²', '%+10.5e' % G_4)\n",
    "print('\\n')\n",
    "\n",
    "# Armadura mínima\n",
    "M_MIN = MOMENTO_MINIMO(W_INF, F_CTKSUPJ[1])\n",
    "X, EPSILON_S, EPSILON_C, Z, A_SCPNEC = AREA_ACO_FNS_RETANGULAR_SIMPLES('CP', M_MIN, F_CK, B_W, D, E_SCP, SIGMA_PIINF, 35/1000, EPSILON_Y, F_PD, F_YD)\n",
    "print('Armadura necessária')\n",
    "print('X:         ',   '%+10.5e' % X, 'm')\n",
    "print('EPSILON_S: ',   '%+10.5e' % EPSILON_S)\n",
    "print('EPSILON_C: ',   '%+10.5e' % EPSILON_C)\n",
    "print('Z:         ',   '%+10.5e' % Z, 'm')\n",
    "print('A_SCPNEC:  ',   '%+10.5e' % A_SCPNEC, 'm²')\n",
    "print('\\n')\n",
    "\n",
    "\n"
   ]
  },
  {
   "cell_type": "markdown",
   "metadata": {
    "id": "HTGEIixtcF4a"
   },
   "source": [
    "## A célula abaixo verifica:\n",
    "- Verificação da biela comprimida;\n",
    "- Determina a armadura transversal necessária."
   ]
  },
  {
   "cell_type": "code",
   "execution_count": 9,
   "metadata": {
    "colab": {
     "base_uri": "https://localhost:8080/",
     "height": 231
    },
    "id": "Jg-j8g6zcF4b",
    "outputId": "01d22117-a8ec-4bee-e634-568e60f722b2"
   },
   "outputs": [
    {
     "ename": "SyntaxError",
     "evalue": "EOL while scanning string literal (<ipython-input-9-03dcb881f024>, line 16)",
     "output_type": "error",
     "traceback": [
      "\u001b[1;36m  File \u001b[1;32m\"<ipython-input-9-03dcb881f024>\"\u001b[1;36m, line \u001b[1;32m16\u001b[0m\n\u001b[1;33m    print('V_C:          ',   '%+10.5e' % V_C, 'kN)\u001b[0m\n\u001b[1;37m                                                   ^\u001b[0m\n\u001b[1;31mSyntaxError\u001b[0m\u001b[1;31m:\u001b[0m EOL while scanning string literal\n"
     ]
    }
   ],
   "source": [
    "# Verificação da biela comprimida\n",
    "V_RD2 = RESISTENCIA_BIELA_COMPRIMIDA(F_CKJ[1], B_W, D)\n",
    "\n",
    "G_5 = VERIFICA_BIELA_COMPRIMIDA(V_SD, V_RD2)\n",
    "G.append(G_5)\n",
    "\n",
    "print('Esforço cortante solicitante')\n",
    "print('V_SD:         ',   '%+10.5e' % V_SD, 'kN', '%+10.5e' % G_5)\n",
    "print('Verificação da biela comprimida')\n",
    "print('V_RD2:        ',   '%+10.5e' % V_RD2, 'kN', '%+10.5e' % G_5)\n",
    "print('\\n')\n",
    "\n",
    "V_C, V_SW, A_SW = AREA_ACO_TRANSVERSAL(ALPHA, F_CK, V_SD, F_CTKINFJ, B_W, D, TIPO_CONCRETO, W_INF, A_C, M_SDMAX, F_CTMJ)\n",
    "\n",
    "print('Resistência do concreto ao cisalhamento')\n",
    "print('V_C:          ',   '%+10.5e' % V_C, 'kN)\n",
    "print('Resistência do aço ao cisalhamento')\n",
    "print('V_SW:         ',   '%+10.5e' % V_RSW, 'kN')\n",
    "print('Armadura para o cisalhamento')\n",
    "print('A_SW:         ',   '%+10.5e' % A_RSW, 'm²/m')\n",
    "\n"
   ]
  },
  {
   "cell_type": "code",
   "execution_count": null,
   "metadata": {
    "id": "N-Ex3J6hzK1P"
   },
   "outputs": [],
   "source": [
    "\n",
    "\n"
   ]
  }
 ],
 "metadata": {
  "colab": {
   "collapsed_sections": [],
   "name": "VIGA_PREPRO.ipynb",
   "provenance": []
  },
  "kernelspec": {
   "display_name": "Python 3",
   "language": "python",
   "name": "python3"
  },
  "language_info": {
   "codemirror_mode": {
    "name": "ipython",
    "version": 3
   },
   "file_extension": ".py",
   "mimetype": "text/x-python",
   "name": "python",
   "nbconvert_exporter": "python",
   "pygments_lexer": "ipython3",
   "version": "3.8.3"
  }
 },
 "nbformat": 4,
 "nbformat_minor": 1
}
